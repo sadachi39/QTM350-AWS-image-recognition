{
 "cells": [
  {
   "cell_type": "code",
   "execution_count": 1,
   "id": "fc58ed93",
   "metadata": {},
   "outputs": [],
   "source": [
    "import boto3\n",
    "import numpy as np\n",
    "import pandas as pd"
   ]
  },
  {
   "cell_type": "markdown",
   "id": "6d986b72",
   "metadata": {},
   "source": [
    "## Christian Bale dataframe"
   ]
  },
  {
   "cell_type": "code",
   "execution_count": 2,
   "id": "39770d27",
   "metadata": {},
   "outputs": [],
   "source": [
    "client = boto3.client('rekognition')\n",
    "def extract_similarity_christian(photo):\n",
    "    try:\n",
    "        comparison = client.compare_faces(\n",
    "            SourceImage= {'S3Object':{'Bucket':'christianfacematch', 'Name':'Christian-Bale-Base.jpeg'}},\n",
    "            TargetImage = {'S3Object':{'Bucket':'christianfacematch','Name':photo}})\n",
    "        similarity = comparison['FaceMatches'][0]['Similarity']\n",
    "    except Exception:\n",
    "        similarity = 0\n",
    "    return similarity"
   ]
  },
  {
   "cell_type": "code",
   "execution_count": 3,
   "id": "9b5d291a",
   "metadata": {},
   "outputs": [],
   "source": [
    "def extract_confidence_christian(photo):\n",
    "    try:\n",
    "        response = client.recognize_celebrities(Image={'S3Object': {\n",
    "        'Bucket': 'christianfacematch',\n",
    "        'Name': photo\n",
    "}})\n",
    "        confidence = response['CelebrityFaces'][0]['MatchConfidence']\n",
    "    except Exception:\n",
    "        confidence = 0\n",
    "    return confidence"
   ]
  },
  {
   "cell_type": "code",
   "execution_count": 4,
   "id": "72902921",
   "metadata": {},
   "outputs": [],
   "source": [
    "def extract_name_christian(photo):\n",
    "    try:\n",
    "        response = client.recognize_celebrities(Image={'S3Object': {\n",
    "        'Bucket': 'christianfacematch',\n",
    "        'Name': photo\n",
    "}})\n",
    "        confidence = response['CelebrityFaces'][0]['Name']\n",
    "    except Exception:\n",
    "        confidence = \"Unrecognizable\"\n",
    "    return confidence"
   ]
  },
  {
   "cell_type": "code",
   "execution_count": 5,
   "id": "076c8e3a",
   "metadata": {},
   "outputs": [
    {
     "data": {
      "text/plain": [
       "'Christian Bale'"
      ]
     },
     "execution_count": 5,
     "metadata": {},
     "output_type": "execute_result"
    }
   ],
   "source": [
    "photo = 'Christian-Bale-machinist3.jpeg'\n",
    "extract_name_christian(photo)"
   ]
  },
  {
   "cell_type": "code",
   "execution_count": 6,
   "id": "69b75bde",
   "metadata": {},
   "outputs": [
    {
     "data": {
      "text/plain": [
       "['Christian-Bale-Base.jpeg',\n",
       " 'Christian-Bale-Vice1.jpg',\n",
       " 'Christian-Bale-Vice2.jpeg',\n",
       " 'Christian-Bale-Vice3.jpeg',\n",
       " 'Christian-Bale-machinist3.jpeg',\n",
       " 'christian-bale-american1.jpeg',\n",
       " 'christian-bale-american2.jpg',\n",
       " 'christian-bale-american3.jpeg',\n",
       " 'christian-bale-machinist1.png',\n",
       " 'christian-bale-machinist2.jpeg']"
      ]
     },
     "execution_count": 6,
     "metadata": {},
     "output_type": "execute_result"
    }
   ],
   "source": [
    "s3_resource = boto3.resource('s3')\n",
    "my_bucket = s3_resource.Bucket('christianfacematch')\n",
    "summaries = my_bucket.objects.all()\n",
    "image_christian = [image.key for image  in summaries]\n",
    "image_christian"
   ]
  },
  {
   "cell_type": "code",
   "execution_count": 7,
   "id": "1ed867a0",
   "metadata": {},
   "outputs": [],
   "source": [
    "df_christian = pd.DataFrame({'Name':image_christian})"
   ]
  },
  {
   "cell_type": "code",
   "execution_count": 8,
   "id": "9f18e42c",
   "metadata": {},
   "outputs": [],
   "source": [
    "df_christian['Similarity'] = [extract_similarity_christian(photo) for photo in df_christian['Name']]"
   ]
  },
  {
   "cell_type": "code",
   "execution_count": 9,
   "id": "789214de",
   "metadata": {},
   "outputs": [],
   "source": [
    "df_christian['Celebrity_Recognized'] = [extract_name_christian(photo) for photo in df_christian['Name']]"
   ]
  },
  {
   "cell_type": "code",
   "execution_count": 10,
   "id": "32936230",
   "metadata": {},
   "outputs": [],
   "source": [
    "df_christian['Celebrity_Confidence'] = [extract_confidence_christian(photo) for photo in df_christian['Name']]"
   ]
  },
  {
   "cell_type": "code",
   "execution_count": 11,
   "id": "29317885",
   "metadata": {},
   "outputs": [],
   "source": [
    "Makeup_Christian = ['No', 'No', 'No', 'No', 'No', 'No','No','No', 'No', 'No']"
   ]
  },
  {
   "cell_type": "code",
   "execution_count": 12,
   "id": "eb42c2d4",
   "metadata": {},
   "outputs": [],
   "source": [
    "Weight_Christian = [0, 40, 40, 40, 65, 43, 43, 43, 65, 65]"
   ]
  },
  {
   "cell_type": "code",
   "execution_count": 13,
   "id": "1e0bfb3f",
   "metadata": {},
   "outputs": [],
   "source": [
    "df_christian['Makeup'] = Makeup_Christian"
   ]
  },
  {
   "cell_type": "code",
   "execution_count": 14,
   "id": "48d93411",
   "metadata": {},
   "outputs": [],
   "source": [
    "df_christian['Weight_Change_in_lbs'] = Weight_Christian"
   ]
  },
  {
   "cell_type": "code",
   "execution_count": 15,
   "id": "3351d75f",
   "metadata": {},
   "outputs": [
    {
     "data": {
      "text/html": [
       "<div>\n",
       "<style scoped>\n",
       "    .dataframe tbody tr th:only-of-type {\n",
       "        vertical-align: middle;\n",
       "    }\n",
       "\n",
       "    .dataframe tbody tr th {\n",
       "        vertical-align: top;\n",
       "    }\n",
       "\n",
       "    .dataframe thead th {\n",
       "        text-align: right;\n",
       "    }\n",
       "</style>\n",
       "<table border=\"1\" class=\"dataframe\">\n",
       "  <thead>\n",
       "    <tr style=\"text-align: right;\">\n",
       "      <th></th>\n",
       "      <th>Name</th>\n",
       "      <th>Similarity</th>\n",
       "      <th>Celebrity_Recognized</th>\n",
       "      <th>Celebrity_Confidence</th>\n",
       "      <th>Makeup</th>\n",
       "      <th>Weight_Change_in_lbs</th>\n",
       "    </tr>\n",
       "  </thead>\n",
       "  <tbody>\n",
       "    <tr>\n",
       "      <th>0</th>\n",
       "      <td>Christian-Bale-Base.jpeg</td>\n",
       "      <td>100.000000</td>\n",
       "      <td>Christian Bale</td>\n",
       "      <td>99.544708</td>\n",
       "      <td>No</td>\n",
       "      <td>0</td>\n",
       "    </tr>\n",
       "    <tr>\n",
       "      <th>1</th>\n",
       "      <td>Christian-Bale-Vice1.jpg</td>\n",
       "      <td>0.000000</td>\n",
       "      <td>Unrecognizable</td>\n",
       "      <td>0.000000</td>\n",
       "      <td>No</td>\n",
       "      <td>40</td>\n",
       "    </tr>\n",
       "    <tr>\n",
       "      <th>2</th>\n",
       "      <td>Christian-Bale-Vice2.jpeg</td>\n",
       "      <td>0.000000</td>\n",
       "      <td>Unrecognizable</td>\n",
       "      <td>0.000000</td>\n",
       "      <td>No</td>\n",
       "      <td>40</td>\n",
       "    </tr>\n",
       "    <tr>\n",
       "      <th>3</th>\n",
       "      <td>Christian-Bale-Vice3.jpeg</td>\n",
       "      <td>0.000000</td>\n",
       "      <td>Unrecognizable</td>\n",
       "      <td>0.000000</td>\n",
       "      <td>No</td>\n",
       "      <td>40</td>\n",
       "    </tr>\n",
       "    <tr>\n",
       "      <th>4</th>\n",
       "      <td>Christian-Bale-machinist3.jpeg</td>\n",
       "      <td>99.815094</td>\n",
       "      <td>Christian Bale</td>\n",
       "      <td>94.874214</td>\n",
       "      <td>No</td>\n",
       "      <td>65</td>\n",
       "    </tr>\n",
       "    <tr>\n",
       "      <th>5</th>\n",
       "      <td>christian-bale-american1.jpeg</td>\n",
       "      <td>99.809196</td>\n",
       "      <td>Felix Kramer</td>\n",
       "      <td>81.725716</td>\n",
       "      <td>No</td>\n",
       "      <td>43</td>\n",
       "    </tr>\n",
       "    <tr>\n",
       "      <th>6</th>\n",
       "      <td>christian-bale-american2.jpg</td>\n",
       "      <td>99.980438</td>\n",
       "      <td>Christian Bale</td>\n",
       "      <td>88.991524</td>\n",
       "      <td>No</td>\n",
       "      <td>43</td>\n",
       "    </tr>\n",
       "    <tr>\n",
       "      <th>7</th>\n",
       "      <td>christian-bale-american3.jpeg</td>\n",
       "      <td>99.969536</td>\n",
       "      <td>Felix Kramer</td>\n",
       "      <td>76.393921</td>\n",
       "      <td>No</td>\n",
       "      <td>43</td>\n",
       "    </tr>\n",
       "    <tr>\n",
       "      <th>8</th>\n",
       "      <td>christian-bale-machinist1.png</td>\n",
       "      <td>97.410477</td>\n",
       "      <td>Christian Bale</td>\n",
       "      <td>99.657700</td>\n",
       "      <td>No</td>\n",
       "      <td>65</td>\n",
       "    </tr>\n",
       "    <tr>\n",
       "      <th>9</th>\n",
       "      <td>christian-bale-machinist2.jpeg</td>\n",
       "      <td>99.520897</td>\n",
       "      <td>Christian Bale</td>\n",
       "      <td>99.595238</td>\n",
       "      <td>No</td>\n",
       "      <td>65</td>\n",
       "    </tr>\n",
       "  </tbody>\n",
       "</table>\n",
       "</div>"
      ],
      "text/plain": [
       "                             Name  Similarity Celebrity_Recognized  \\\n",
       "0        Christian-Bale-Base.jpeg  100.000000       Christian Bale   \n",
       "1        Christian-Bale-Vice1.jpg    0.000000       Unrecognizable   \n",
       "2       Christian-Bale-Vice2.jpeg    0.000000       Unrecognizable   \n",
       "3       Christian-Bale-Vice3.jpeg    0.000000       Unrecognizable   \n",
       "4  Christian-Bale-machinist3.jpeg   99.815094       Christian Bale   \n",
       "5   christian-bale-american1.jpeg   99.809196         Felix Kramer   \n",
       "6    christian-bale-american2.jpg   99.980438       Christian Bale   \n",
       "7   christian-bale-american3.jpeg   99.969536         Felix Kramer   \n",
       "8   christian-bale-machinist1.png   97.410477       Christian Bale   \n",
       "9  christian-bale-machinist2.jpeg   99.520897       Christian Bale   \n",
       "\n",
       "   Celebrity_Confidence Makeup  Weight_Change_in_lbs  \n",
       "0             99.544708     No                     0  \n",
       "1              0.000000     No                    40  \n",
       "2              0.000000     No                    40  \n",
       "3              0.000000     No                    40  \n",
       "4             94.874214     No                    65  \n",
       "5             81.725716     No                    43  \n",
       "6             88.991524     No                    43  \n",
       "7             76.393921     No                    43  \n",
       "8             99.657700     No                    65  \n",
       "9             99.595238     No                    65  "
      ]
     },
     "execution_count": 15,
     "metadata": {},
     "output_type": "execute_result"
    }
   ],
   "source": [
    "df_christian"
   ]
  },
  {
   "cell_type": "markdown",
   "id": "27398191",
   "metadata": {},
   "source": [
    "## Jared Leto dataframe"
   ]
  },
  {
   "cell_type": "code",
   "execution_count": 16,
   "id": "2e790187",
   "metadata": {},
   "outputs": [
    {
     "data": {
      "text/plain": [
       "['Jared-Leto-Base.jpeg',\n",
       " 'Jared-Leto-Chapter1.jpeg',\n",
       " 'Jared-Leto-Chapter2.jpeg',\n",
       " 'Jared-Leto-Chapter3.jpeg',\n",
       " 'Jared-Leto-Dallas1.jpeg',\n",
       " 'Jared-Leto-Dallas2.jpeg',\n",
       " 'Jared-Leto-Dallas3.jpeg',\n",
       " 'Jared-Leto-joker1.jpeg',\n",
       " 'Jared-Leto-joker2.png',\n",
       " 'Jared-Leto-joker3.jpeg']"
      ]
     },
     "execution_count": 16,
     "metadata": {},
     "output_type": "execute_result"
    }
   ],
   "source": [
    "s3_resource = boto3.resource('s3')\n",
    "my_bucket = s3_resource.Bucket('jaredfacematch')\n",
    "summaries = my_bucket.objects.all()\n",
    "image_jared = [image.key for image  in summaries]\n",
    "image_jared"
   ]
  },
  {
   "cell_type": "code",
   "execution_count": 17,
   "id": "dbfcfc15",
   "metadata": {},
   "outputs": [],
   "source": [
    "def extract_similarity_jared(photo):\n",
    "    try:\n",
    "        comparison = client.compare_faces(\n",
    "            SourceImage= {'S3Object':{'Bucket':'jaredfacematch', 'Name':'Jared-Leto-Base.jpeg'}},\n",
    "            TargetImage = {'S3Object':{'Bucket':'jaredfacematch','Name':photo}})\n",
    "        similarity = comparison['FaceMatches'][0]['Similarity']\n",
    "    except Exception:\n",
    "        similarity = 0\n",
    "    return similarity"
   ]
  },
  {
   "cell_type": "code",
   "execution_count": 18,
   "id": "24b3c870",
   "metadata": {},
   "outputs": [],
   "source": [
    "def extract_confidence_jared(photo):\n",
    "    try:\n",
    "        response = client.recognize_celebrities(Image={'S3Object': {\n",
    "        'Bucket': 'jaredfacematch',\n",
    "        'Name': photo\n",
    "}})\n",
    "        confidence = response['CelebrityFaces'][0]['MatchConfidence']\n",
    "    except Exception:\n",
    "        confidence = 0\n",
    "    return confidence"
   ]
  },
  {
   "cell_type": "code",
   "execution_count": 19,
   "id": "9159f7f1",
   "metadata": {},
   "outputs": [],
   "source": [
    "def extract_name_jared(photo):\n",
    "    try:\n",
    "        response = client.recognize_celebrities(Image={'S3Object': {\n",
    "        'Bucket': 'jaredfacematch',\n",
    "        'Name': photo\n",
    "}})\n",
    "        confidence = response['CelebrityFaces'][0]['Name']\n",
    "    except Exception:\n",
    "        confidence = \"Unrecognizable\"\n",
    "    return confidence"
   ]
  },
  {
   "cell_type": "code",
   "execution_count": 20,
   "id": "7d28c217",
   "metadata": {},
   "outputs": [],
   "source": [
    "df_jared = pd.DataFrame({'Name':image_jared})"
   ]
  },
  {
   "cell_type": "code",
   "execution_count": 21,
   "id": "53bfbd90",
   "metadata": {},
   "outputs": [],
   "source": [
    "df_jared['Similarity'] = [extract_similarity_jared(photo) for photo in df_jared['Name']]"
   ]
  },
  {
   "cell_type": "code",
   "execution_count": 22,
   "id": "8db87df6",
   "metadata": {},
   "outputs": [],
   "source": [
    "df_jared['Celebrity_Recognized'] = [extract_name_jared(photo) for photo in df_jared['Name']]"
   ]
  },
  {
   "cell_type": "code",
   "execution_count": 23,
   "id": "18bcedf6",
   "metadata": {},
   "outputs": [],
   "source": [
    "df_jared['Celebrity_Confidence'] = [extract_confidence_jared(photo) for photo in df_jared['Name']]"
   ]
  },
  {
   "cell_type": "code",
   "execution_count": 24,
   "id": "f07dd025",
   "metadata": {},
   "outputs": [],
   "source": [
    "Makeup_Jared = ['No', 'No', 'No', 'No', 'Yes', 'Yes','Yes','Yes', 'Yes', 'Yes']"
   ]
  },
  {
   "cell_type": "code",
   "execution_count": 25,
   "id": "e40c240a",
   "metadata": {},
   "outputs": [],
   "source": [
    "Weight_Jared = [0, 70, 70, 70, 30, 30, 30, 0, 0, 0]"
   ]
  },
  {
   "cell_type": "code",
   "execution_count": 26,
   "id": "775d7cf4",
   "metadata": {},
   "outputs": [],
   "source": [
    "df_jared['Makeup'] = Makeup_Jared"
   ]
  },
  {
   "cell_type": "code",
   "execution_count": 27,
   "id": "a9a88b4a",
   "metadata": {},
   "outputs": [],
   "source": [
    "df_jared['Weight_Change_in_lbs'] = Weight_Jared"
   ]
  },
  {
   "cell_type": "code",
   "execution_count": 28,
   "id": "8eb5ad5e",
   "metadata": {},
   "outputs": [
    {
     "data": {
      "text/html": [
       "<div>\n",
       "<style scoped>\n",
       "    .dataframe tbody tr th:only-of-type {\n",
       "        vertical-align: middle;\n",
       "    }\n",
       "\n",
       "    .dataframe tbody tr th {\n",
       "        vertical-align: top;\n",
       "    }\n",
       "\n",
       "    .dataframe thead th {\n",
       "        text-align: right;\n",
       "    }\n",
       "</style>\n",
       "<table border=\"1\" class=\"dataframe\">\n",
       "  <thead>\n",
       "    <tr style=\"text-align: right;\">\n",
       "      <th></th>\n",
       "      <th>Name</th>\n",
       "      <th>Similarity</th>\n",
       "      <th>Celebrity_Recognized</th>\n",
       "      <th>Celebrity_Confidence</th>\n",
       "      <th>Makeup</th>\n",
       "      <th>Weight_Change_in_lbs</th>\n",
       "    </tr>\n",
       "  </thead>\n",
       "  <tbody>\n",
       "    <tr>\n",
       "      <th>0</th>\n",
       "      <td>Jared-Leto-Base.jpeg</td>\n",
       "      <td>100.000000</td>\n",
       "      <td>Jared Leto</td>\n",
       "      <td>99.244003</td>\n",
       "      <td>No</td>\n",
       "      <td>0</td>\n",
       "    </tr>\n",
       "    <tr>\n",
       "      <th>1</th>\n",
       "      <td>Jared-Leto-Chapter1.jpeg</td>\n",
       "      <td>0.000000</td>\n",
       "      <td>Jared Leto</td>\n",
       "      <td>92.987770</td>\n",
       "      <td>No</td>\n",
       "      <td>70</td>\n",
       "    </tr>\n",
       "    <tr>\n",
       "      <th>2</th>\n",
       "      <td>Jared-Leto-Chapter2.jpeg</td>\n",
       "      <td>0.000000</td>\n",
       "      <td>Jared Leto</td>\n",
       "      <td>96.524673</td>\n",
       "      <td>No</td>\n",
       "      <td>70</td>\n",
       "    </tr>\n",
       "    <tr>\n",
       "      <th>3</th>\n",
       "      <td>Jared-Leto-Chapter3.jpeg</td>\n",
       "      <td>90.493851</td>\n",
       "      <td>Jared Leto</td>\n",
       "      <td>91.769417</td>\n",
       "      <td>No</td>\n",
       "      <td>70</td>\n",
       "    </tr>\n",
       "    <tr>\n",
       "      <th>4</th>\n",
       "      <td>Jared-Leto-Dallas1.jpeg</td>\n",
       "      <td>0.000000</td>\n",
       "      <td>Unrecognizable</td>\n",
       "      <td>0.000000</td>\n",
       "      <td>Yes</td>\n",
       "      <td>30</td>\n",
       "    </tr>\n",
       "    <tr>\n",
       "      <th>5</th>\n",
       "      <td>Jared-Leto-Dallas2.jpeg</td>\n",
       "      <td>0.000000</td>\n",
       "      <td>Unrecognizable</td>\n",
       "      <td>0.000000</td>\n",
       "      <td>Yes</td>\n",
       "      <td>30</td>\n",
       "    </tr>\n",
       "    <tr>\n",
       "      <th>6</th>\n",
       "      <td>Jared-Leto-Dallas3.jpeg</td>\n",
       "      <td>0.000000</td>\n",
       "      <td>Unrecognizable</td>\n",
       "      <td>0.000000</td>\n",
       "      <td>Yes</td>\n",
       "      <td>30</td>\n",
       "    </tr>\n",
       "    <tr>\n",
       "      <th>7</th>\n",
       "      <td>Jared-Leto-joker1.jpeg</td>\n",
       "      <td>0.000000</td>\n",
       "      <td>Unrecognizable</td>\n",
       "      <td>0.000000</td>\n",
       "      <td>Yes</td>\n",
       "      <td>0</td>\n",
       "    </tr>\n",
       "    <tr>\n",
       "      <th>8</th>\n",
       "      <td>Jared-Leto-joker2.png</td>\n",
       "      <td>0.000000</td>\n",
       "      <td>Unrecognizable</td>\n",
       "      <td>0.000000</td>\n",
       "      <td>Yes</td>\n",
       "      <td>0</td>\n",
       "    </tr>\n",
       "    <tr>\n",
       "      <th>9</th>\n",
       "      <td>Jared-Leto-joker3.jpeg</td>\n",
       "      <td>0.000000</td>\n",
       "      <td>Unrecognizable</td>\n",
       "      <td>0.000000</td>\n",
       "      <td>Yes</td>\n",
       "      <td>0</td>\n",
       "    </tr>\n",
       "  </tbody>\n",
       "</table>\n",
       "</div>"
      ],
      "text/plain": [
       "                       Name  Similarity Celebrity_Recognized  \\\n",
       "0      Jared-Leto-Base.jpeg  100.000000           Jared Leto   \n",
       "1  Jared-Leto-Chapter1.jpeg    0.000000           Jared Leto   \n",
       "2  Jared-Leto-Chapter2.jpeg    0.000000           Jared Leto   \n",
       "3  Jared-Leto-Chapter3.jpeg   90.493851           Jared Leto   \n",
       "4   Jared-Leto-Dallas1.jpeg    0.000000       Unrecognizable   \n",
       "5   Jared-Leto-Dallas2.jpeg    0.000000       Unrecognizable   \n",
       "6   Jared-Leto-Dallas3.jpeg    0.000000       Unrecognizable   \n",
       "7    Jared-Leto-joker1.jpeg    0.000000       Unrecognizable   \n",
       "8     Jared-Leto-joker2.png    0.000000       Unrecognizable   \n",
       "9    Jared-Leto-joker3.jpeg    0.000000       Unrecognizable   \n",
       "\n",
       "   Celebrity_Confidence Makeup  Weight_Change_in_lbs  \n",
       "0             99.244003     No                     0  \n",
       "1             92.987770     No                    70  \n",
       "2             96.524673     No                    70  \n",
       "3             91.769417     No                    70  \n",
       "4              0.000000    Yes                    30  \n",
       "5              0.000000    Yes                    30  \n",
       "6              0.000000    Yes                    30  \n",
       "7              0.000000    Yes                     0  \n",
       "8              0.000000    Yes                     0  \n",
       "9              0.000000    Yes                     0  "
      ]
     },
     "execution_count": 28,
     "metadata": {},
     "output_type": "execute_result"
    }
   ],
   "source": [
    "df_jared"
   ]
  },
  {
   "cell_type": "markdown",
   "id": "82841a83",
   "metadata": {},
   "source": [
    "## Charlize Theron dataframe"
   ]
  },
  {
   "cell_type": "code",
   "execution_count": 29,
   "id": "6fd233f2",
   "metadata": {},
   "outputs": [
    {
     "data": {
      "text/plain": [
       "['Charlize-Theron-Base.jpeg',\n",
       " 'Charlize-Theron-Madmax1.jpeg',\n",
       " 'Charlize-Theron-Madmax2.jpeg',\n",
       " 'Charlize-Theron-Madmax3.jpeg',\n",
       " 'Charlize-Theron-Monster1.jpeg',\n",
       " 'Charlize-Theron-Monster2.jpeg',\n",
       " 'Charlize-Theron-Monster3.jpeg',\n",
       " 'Charlize-Theron-Tully1.jpg',\n",
       " 'Charlize-Theron-Tully2.jpeg',\n",
       " 'Charlize-Theron-Tully3.jpeg']"
      ]
     },
     "execution_count": 29,
     "metadata": {},
     "output_type": "execute_result"
    }
   ],
   "source": [
    "s3_resource = boto3.resource('s3')\n",
    "my_bucket = s3_resource.Bucket('charlizefacematch')\n",
    "summaries = my_bucket.objects.all()\n",
    "image_charlize = [image.key for image  in summaries]\n",
    "image_charlize"
   ]
  },
  {
   "cell_type": "code",
   "execution_count": 30,
   "id": "66956efc",
   "metadata": {},
   "outputs": [],
   "source": [
    "def extract_similarity_charlize(photo):\n",
    "    try:\n",
    "        comparison = client.compare_faces(\n",
    "            SourceImage= {'S3Object':{'Bucket':'charlizefacematch', 'Name':'Charlize-Theron-Base.jpeg'}},\n",
    "            TargetImage = {'S3Object':{'Bucket':'charlizefacematch','Name':photo}})\n",
    "        similarity = comparison['FaceMatches'][0]['Similarity']\n",
    "    except Exception:\n",
    "        similarity = 0\n",
    "    return similarity"
   ]
  },
  {
   "cell_type": "code",
   "execution_count": 31,
   "id": "2c81f168",
   "metadata": {},
   "outputs": [],
   "source": [
    "def extract_confidence_charlize(photo):\n",
    "    try:\n",
    "        response = client.recognize_celebrities(Image={'S3Object': {\n",
    "        'Bucket': 'charlizefacematch',\n",
    "        'Name': photo\n",
    "}})\n",
    "        confidence = response['CelebrityFaces'][0]['MatchConfidence']\n",
    "    except Exception:\n",
    "        confidence = 0\n",
    "    return confidence"
   ]
  },
  {
   "cell_type": "code",
   "execution_count": 32,
   "id": "8f0dfede",
   "metadata": {},
   "outputs": [],
   "source": [
    "def extract_name_charlize(photo):\n",
    "    try:\n",
    "        response = client.recognize_celebrities(Image={'S3Object': {\n",
    "        'Bucket': 'charlizefacematch',\n",
    "        'Name': photo\n",
    "}})\n",
    "        confidence = response['CelebrityFaces'][0]['Name']\n",
    "    except Exception:\n",
    "        confidence = \"Unrecognizable\"\n",
    "    return confidence"
   ]
  },
  {
   "cell_type": "code",
   "execution_count": 33,
   "id": "64052fd6",
   "metadata": {},
   "outputs": [],
   "source": [
    "df_charlize = pd.DataFrame({'Name':image_charlize})"
   ]
  },
  {
   "cell_type": "code",
   "execution_count": 34,
   "id": "ffa2d2ab",
   "metadata": {},
   "outputs": [],
   "source": [
    "df_charlize['Similarity'] = [extract_similarity_charlize(photo) for photo in df_charlize['Name']]"
   ]
  },
  {
   "cell_type": "code",
   "execution_count": 35,
   "id": "6f1331c7",
   "metadata": {},
   "outputs": [],
   "source": [
    "df_charlize['Celebrity_Recognized'] = [extract_name_charlize(photo) for photo in df_charlize['Name']]"
   ]
  },
  {
   "cell_type": "code",
   "execution_count": 36,
   "id": "a6d8af1b",
   "metadata": {},
   "outputs": [],
   "source": [
    "df_charlize['Celebrity_Confidence'] = [extract_confidence_charlize(photo) for photo in df_charlize['Name']]"
   ]
  },
  {
   "cell_type": "code",
   "execution_count": 37,
   "id": "cfbe1d6a",
   "metadata": {},
   "outputs": [],
   "source": [
    "Makeup_Charlize = ['No', 'Yes', 'Yes', 'Yes', 'Yes', 'Yes','Yes','No', 'No', 'No']"
   ]
  },
  {
   "cell_type": "code",
   "execution_count": 38,
   "id": "74db1094",
   "metadata": {},
   "outputs": [],
   "source": [
    "Weight_Charlize = [0, 20, 20, 20, 30, 30, 30, 50, 50, 50]"
   ]
  },
  {
   "cell_type": "code",
   "execution_count": 39,
   "id": "392e222b",
   "metadata": {},
   "outputs": [],
   "source": [
    "df_charlize['Makeup'] = Makeup_Charlize"
   ]
  },
  {
   "cell_type": "code",
   "execution_count": 40,
   "id": "47e4dae8",
   "metadata": {},
   "outputs": [],
   "source": [
    "df_charlize['Weight_Change_in_lbs'] = Weight_Charlize"
   ]
  },
  {
   "cell_type": "code",
   "execution_count": 41,
   "id": "0c06e450",
   "metadata": {},
   "outputs": [
    {
     "data": {
      "text/html": [
       "<div>\n",
       "<style scoped>\n",
       "    .dataframe tbody tr th:only-of-type {\n",
       "        vertical-align: middle;\n",
       "    }\n",
       "\n",
       "    .dataframe tbody tr th {\n",
       "        vertical-align: top;\n",
       "    }\n",
       "\n",
       "    .dataframe thead th {\n",
       "        text-align: right;\n",
       "    }\n",
       "</style>\n",
       "<table border=\"1\" class=\"dataframe\">\n",
       "  <thead>\n",
       "    <tr style=\"text-align: right;\">\n",
       "      <th></th>\n",
       "      <th>Name</th>\n",
       "      <th>Similarity</th>\n",
       "      <th>Celebrity_Recognized</th>\n",
       "      <th>Celebrity_Confidence</th>\n",
       "      <th>Makeup</th>\n",
       "      <th>Weight_Change_in_lbs</th>\n",
       "    </tr>\n",
       "  </thead>\n",
       "  <tbody>\n",
       "    <tr>\n",
       "      <th>0</th>\n",
       "      <td>Charlize-Theron-Base.jpeg</td>\n",
       "      <td>100.000000</td>\n",
       "      <td>Charlize Theron</td>\n",
       "      <td>96.863136</td>\n",
       "      <td>No</td>\n",
       "      <td>0</td>\n",
       "    </tr>\n",
       "    <tr>\n",
       "      <th>1</th>\n",
       "      <td>Charlize-Theron-Madmax1.jpeg</td>\n",
       "      <td>0.000000</td>\n",
       "      <td>Unrecognizable</td>\n",
       "      <td>0.000000</td>\n",
       "      <td>Yes</td>\n",
       "      <td>20</td>\n",
       "    </tr>\n",
       "    <tr>\n",
       "      <th>2</th>\n",
       "      <td>Charlize-Theron-Madmax2.jpeg</td>\n",
       "      <td>97.272453</td>\n",
       "      <td>Unrecognizable</td>\n",
       "      <td>0.000000</td>\n",
       "      <td>Yes</td>\n",
       "      <td>20</td>\n",
       "    </tr>\n",
       "    <tr>\n",
       "      <th>3</th>\n",
       "      <td>Charlize-Theron-Madmax3.jpeg</td>\n",
       "      <td>94.869904</td>\n",
       "      <td>Unrecognizable</td>\n",
       "      <td>0.000000</td>\n",
       "      <td>Yes</td>\n",
       "      <td>20</td>\n",
       "    </tr>\n",
       "    <tr>\n",
       "      <th>4</th>\n",
       "      <td>Charlize-Theron-Monster1.jpeg</td>\n",
       "      <td>0.000000</td>\n",
       "      <td>Unrecognizable</td>\n",
       "      <td>0.000000</td>\n",
       "      <td>Yes</td>\n",
       "      <td>30</td>\n",
       "    </tr>\n",
       "    <tr>\n",
       "      <th>5</th>\n",
       "      <td>Charlize-Theron-Monster2.jpeg</td>\n",
       "      <td>0.000000</td>\n",
       "      <td>Unrecognizable</td>\n",
       "      <td>0.000000</td>\n",
       "      <td>Yes</td>\n",
       "      <td>30</td>\n",
       "    </tr>\n",
       "    <tr>\n",
       "      <th>6</th>\n",
       "      <td>Charlize-Theron-Monster3.jpeg</td>\n",
       "      <td>0.000000</td>\n",
       "      <td>Unrecognizable</td>\n",
       "      <td>0.000000</td>\n",
       "      <td>Yes</td>\n",
       "      <td>30</td>\n",
       "    </tr>\n",
       "    <tr>\n",
       "      <th>7</th>\n",
       "      <td>Charlize-Theron-Tully1.jpg</td>\n",
       "      <td>99.983475</td>\n",
       "      <td>Charlize Theron</td>\n",
       "      <td>82.433632</td>\n",
       "      <td>No</td>\n",
       "      <td>50</td>\n",
       "    </tr>\n",
       "    <tr>\n",
       "      <th>8</th>\n",
       "      <td>Charlize-Theron-Tully2.jpeg</td>\n",
       "      <td>99.932693</td>\n",
       "      <td>Unrecognizable</td>\n",
       "      <td>0.000000</td>\n",
       "      <td>No</td>\n",
       "      <td>50</td>\n",
       "    </tr>\n",
       "    <tr>\n",
       "      <th>9</th>\n",
       "      <td>Charlize-Theron-Tully3.jpeg</td>\n",
       "      <td>98.615128</td>\n",
       "      <td>Charlize Theron</td>\n",
       "      <td>97.655167</td>\n",
       "      <td>No</td>\n",
       "      <td>50</td>\n",
       "    </tr>\n",
       "  </tbody>\n",
       "</table>\n",
       "</div>"
      ],
      "text/plain": [
       "                            Name  Similarity Celebrity_Recognized  \\\n",
       "0      Charlize-Theron-Base.jpeg  100.000000      Charlize Theron   \n",
       "1   Charlize-Theron-Madmax1.jpeg    0.000000       Unrecognizable   \n",
       "2   Charlize-Theron-Madmax2.jpeg   97.272453       Unrecognizable   \n",
       "3   Charlize-Theron-Madmax3.jpeg   94.869904       Unrecognizable   \n",
       "4  Charlize-Theron-Monster1.jpeg    0.000000       Unrecognizable   \n",
       "5  Charlize-Theron-Monster2.jpeg    0.000000       Unrecognizable   \n",
       "6  Charlize-Theron-Monster3.jpeg    0.000000       Unrecognizable   \n",
       "7     Charlize-Theron-Tully1.jpg   99.983475      Charlize Theron   \n",
       "8    Charlize-Theron-Tully2.jpeg   99.932693       Unrecognizable   \n",
       "9    Charlize-Theron-Tully3.jpeg   98.615128      Charlize Theron   \n",
       "\n",
       "   Celebrity_Confidence Makeup  Weight_Change_in_lbs  \n",
       "0             96.863136     No                     0  \n",
       "1              0.000000    Yes                    20  \n",
       "2              0.000000    Yes                    20  \n",
       "3              0.000000    Yes                    20  \n",
       "4              0.000000    Yes                    30  \n",
       "5              0.000000    Yes                    30  \n",
       "6              0.000000    Yes                    30  \n",
       "7             82.433632     No                    50  \n",
       "8              0.000000     No                    50  \n",
       "9             97.655167     No                    50  "
      ]
     },
     "execution_count": 41,
     "metadata": {},
     "output_type": "execute_result"
    }
   ],
   "source": [
    "df_charlize"
   ]
  },
  {
   "cell_type": "markdown",
   "id": "f0d85fa3",
   "metadata": {},
   "source": [
    "## Merging the 3 dataframes"
   ]
  },
  {
   "cell_type": "code",
   "execution_count": 42,
   "id": "f89da682",
   "metadata": {},
   "outputs": [
    {
     "data": {
      "text/html": [
       "<div>\n",
       "<style scoped>\n",
       "    .dataframe tbody tr th:only-of-type {\n",
       "        vertical-align: middle;\n",
       "    }\n",
       "\n",
       "    .dataframe tbody tr th {\n",
       "        vertical-align: top;\n",
       "    }\n",
       "\n",
       "    .dataframe thead th {\n",
       "        text-align: right;\n",
       "    }\n",
       "</style>\n",
       "<table border=\"1\" class=\"dataframe\">\n",
       "  <thead>\n",
       "    <tr style=\"text-align: right;\">\n",
       "      <th></th>\n",
       "      <th>Name</th>\n",
       "      <th>Similarity</th>\n",
       "      <th>Celebrity_Recognized</th>\n",
       "      <th>Celebrity_Confidence</th>\n",
       "      <th>Makeup</th>\n",
       "      <th>Weight_Change_in_lbs</th>\n",
       "    </tr>\n",
       "  </thead>\n",
       "  <tbody>\n",
       "    <tr>\n",
       "      <th>0</th>\n",
       "      <td>Christian-Bale-Base.jpeg</td>\n",
       "      <td>100.000000</td>\n",
       "      <td>Christian Bale</td>\n",
       "      <td>99.544708</td>\n",
       "      <td>No</td>\n",
       "      <td>0</td>\n",
       "    </tr>\n",
       "    <tr>\n",
       "      <th>1</th>\n",
       "      <td>Christian-Bale-Vice1.jpg</td>\n",
       "      <td>0.000000</td>\n",
       "      <td>Unrecognizable</td>\n",
       "      <td>0.000000</td>\n",
       "      <td>No</td>\n",
       "      <td>40</td>\n",
       "    </tr>\n",
       "    <tr>\n",
       "      <th>2</th>\n",
       "      <td>Christian-Bale-Vice2.jpeg</td>\n",
       "      <td>0.000000</td>\n",
       "      <td>Unrecognizable</td>\n",
       "      <td>0.000000</td>\n",
       "      <td>No</td>\n",
       "      <td>40</td>\n",
       "    </tr>\n",
       "    <tr>\n",
       "      <th>3</th>\n",
       "      <td>Christian-Bale-Vice3.jpeg</td>\n",
       "      <td>0.000000</td>\n",
       "      <td>Unrecognizable</td>\n",
       "      <td>0.000000</td>\n",
       "      <td>No</td>\n",
       "      <td>40</td>\n",
       "    </tr>\n",
       "    <tr>\n",
       "      <th>4</th>\n",
       "      <td>Christian-Bale-machinist3.jpeg</td>\n",
       "      <td>99.815094</td>\n",
       "      <td>Christian Bale</td>\n",
       "      <td>94.874214</td>\n",
       "      <td>No</td>\n",
       "      <td>65</td>\n",
       "    </tr>\n",
       "    <tr>\n",
       "      <th>5</th>\n",
       "      <td>christian-bale-american1.jpeg</td>\n",
       "      <td>99.809196</td>\n",
       "      <td>Felix Kramer</td>\n",
       "      <td>81.725716</td>\n",
       "      <td>No</td>\n",
       "      <td>43</td>\n",
       "    </tr>\n",
       "    <tr>\n",
       "      <th>6</th>\n",
       "      <td>christian-bale-american2.jpg</td>\n",
       "      <td>99.980438</td>\n",
       "      <td>Christian Bale</td>\n",
       "      <td>88.991524</td>\n",
       "      <td>No</td>\n",
       "      <td>43</td>\n",
       "    </tr>\n",
       "    <tr>\n",
       "      <th>7</th>\n",
       "      <td>christian-bale-american3.jpeg</td>\n",
       "      <td>99.969536</td>\n",
       "      <td>Felix Kramer</td>\n",
       "      <td>76.393921</td>\n",
       "      <td>No</td>\n",
       "      <td>43</td>\n",
       "    </tr>\n",
       "    <tr>\n",
       "      <th>8</th>\n",
       "      <td>christian-bale-machinist1.png</td>\n",
       "      <td>97.410477</td>\n",
       "      <td>Christian Bale</td>\n",
       "      <td>99.657700</td>\n",
       "      <td>No</td>\n",
       "      <td>65</td>\n",
       "    </tr>\n",
       "    <tr>\n",
       "      <th>9</th>\n",
       "      <td>christian-bale-machinist2.jpeg</td>\n",
       "      <td>99.520897</td>\n",
       "      <td>Christian Bale</td>\n",
       "      <td>99.595238</td>\n",
       "      <td>No</td>\n",
       "      <td>65</td>\n",
       "    </tr>\n",
       "    <tr>\n",
       "      <th>10</th>\n",
       "      <td>Jared-Leto-Base.jpeg</td>\n",
       "      <td>100.000000</td>\n",
       "      <td>Jared Leto</td>\n",
       "      <td>99.244003</td>\n",
       "      <td>No</td>\n",
       "      <td>0</td>\n",
       "    </tr>\n",
       "    <tr>\n",
       "      <th>11</th>\n",
       "      <td>Jared-Leto-Chapter1.jpeg</td>\n",
       "      <td>0.000000</td>\n",
       "      <td>Jared Leto</td>\n",
       "      <td>92.987770</td>\n",
       "      <td>No</td>\n",
       "      <td>70</td>\n",
       "    </tr>\n",
       "    <tr>\n",
       "      <th>12</th>\n",
       "      <td>Jared-Leto-Chapter2.jpeg</td>\n",
       "      <td>0.000000</td>\n",
       "      <td>Jared Leto</td>\n",
       "      <td>96.524673</td>\n",
       "      <td>No</td>\n",
       "      <td>70</td>\n",
       "    </tr>\n",
       "    <tr>\n",
       "      <th>13</th>\n",
       "      <td>Jared-Leto-Chapter3.jpeg</td>\n",
       "      <td>90.493851</td>\n",
       "      <td>Jared Leto</td>\n",
       "      <td>91.769417</td>\n",
       "      <td>No</td>\n",
       "      <td>70</td>\n",
       "    </tr>\n",
       "    <tr>\n",
       "      <th>14</th>\n",
       "      <td>Jared-Leto-Dallas1.jpeg</td>\n",
       "      <td>0.000000</td>\n",
       "      <td>Unrecognizable</td>\n",
       "      <td>0.000000</td>\n",
       "      <td>Yes</td>\n",
       "      <td>30</td>\n",
       "    </tr>\n",
       "    <tr>\n",
       "      <th>15</th>\n",
       "      <td>Jared-Leto-Dallas2.jpeg</td>\n",
       "      <td>0.000000</td>\n",
       "      <td>Unrecognizable</td>\n",
       "      <td>0.000000</td>\n",
       "      <td>Yes</td>\n",
       "      <td>30</td>\n",
       "    </tr>\n",
       "    <tr>\n",
       "      <th>16</th>\n",
       "      <td>Jared-Leto-Dallas3.jpeg</td>\n",
       "      <td>0.000000</td>\n",
       "      <td>Unrecognizable</td>\n",
       "      <td>0.000000</td>\n",
       "      <td>Yes</td>\n",
       "      <td>30</td>\n",
       "    </tr>\n",
       "    <tr>\n",
       "      <th>17</th>\n",
       "      <td>Jared-Leto-joker1.jpeg</td>\n",
       "      <td>0.000000</td>\n",
       "      <td>Unrecognizable</td>\n",
       "      <td>0.000000</td>\n",
       "      <td>Yes</td>\n",
       "      <td>0</td>\n",
       "    </tr>\n",
       "    <tr>\n",
       "      <th>18</th>\n",
       "      <td>Jared-Leto-joker2.png</td>\n",
       "      <td>0.000000</td>\n",
       "      <td>Unrecognizable</td>\n",
       "      <td>0.000000</td>\n",
       "      <td>Yes</td>\n",
       "      <td>0</td>\n",
       "    </tr>\n",
       "    <tr>\n",
       "      <th>19</th>\n",
       "      <td>Jared-Leto-joker3.jpeg</td>\n",
       "      <td>0.000000</td>\n",
       "      <td>Unrecognizable</td>\n",
       "      <td>0.000000</td>\n",
       "      <td>Yes</td>\n",
       "      <td>0</td>\n",
       "    </tr>\n",
       "    <tr>\n",
       "      <th>20</th>\n",
       "      <td>Charlize-Theron-Base.jpeg</td>\n",
       "      <td>100.000000</td>\n",
       "      <td>Charlize Theron</td>\n",
       "      <td>96.863136</td>\n",
       "      <td>No</td>\n",
       "      <td>0</td>\n",
       "    </tr>\n",
       "    <tr>\n",
       "      <th>21</th>\n",
       "      <td>Charlize-Theron-Madmax1.jpeg</td>\n",
       "      <td>0.000000</td>\n",
       "      <td>Unrecognizable</td>\n",
       "      <td>0.000000</td>\n",
       "      <td>Yes</td>\n",
       "      <td>20</td>\n",
       "    </tr>\n",
       "    <tr>\n",
       "      <th>22</th>\n",
       "      <td>Charlize-Theron-Madmax2.jpeg</td>\n",
       "      <td>97.272453</td>\n",
       "      <td>Unrecognizable</td>\n",
       "      <td>0.000000</td>\n",
       "      <td>Yes</td>\n",
       "      <td>20</td>\n",
       "    </tr>\n",
       "    <tr>\n",
       "      <th>23</th>\n",
       "      <td>Charlize-Theron-Madmax3.jpeg</td>\n",
       "      <td>94.869904</td>\n",
       "      <td>Unrecognizable</td>\n",
       "      <td>0.000000</td>\n",
       "      <td>Yes</td>\n",
       "      <td>20</td>\n",
       "    </tr>\n",
       "    <tr>\n",
       "      <th>24</th>\n",
       "      <td>Charlize-Theron-Monster1.jpeg</td>\n",
       "      <td>0.000000</td>\n",
       "      <td>Unrecognizable</td>\n",
       "      <td>0.000000</td>\n",
       "      <td>Yes</td>\n",
       "      <td>30</td>\n",
       "    </tr>\n",
       "    <tr>\n",
       "      <th>25</th>\n",
       "      <td>Charlize-Theron-Monster2.jpeg</td>\n",
       "      <td>0.000000</td>\n",
       "      <td>Unrecognizable</td>\n",
       "      <td>0.000000</td>\n",
       "      <td>Yes</td>\n",
       "      <td>30</td>\n",
       "    </tr>\n",
       "    <tr>\n",
       "      <th>26</th>\n",
       "      <td>Charlize-Theron-Monster3.jpeg</td>\n",
       "      <td>0.000000</td>\n",
       "      <td>Unrecognizable</td>\n",
       "      <td>0.000000</td>\n",
       "      <td>Yes</td>\n",
       "      <td>30</td>\n",
       "    </tr>\n",
       "    <tr>\n",
       "      <th>27</th>\n",
       "      <td>Charlize-Theron-Tully1.jpg</td>\n",
       "      <td>99.983475</td>\n",
       "      <td>Charlize Theron</td>\n",
       "      <td>82.433632</td>\n",
       "      <td>No</td>\n",
       "      <td>50</td>\n",
       "    </tr>\n",
       "    <tr>\n",
       "      <th>28</th>\n",
       "      <td>Charlize-Theron-Tully2.jpeg</td>\n",
       "      <td>99.932693</td>\n",
       "      <td>Unrecognizable</td>\n",
       "      <td>0.000000</td>\n",
       "      <td>No</td>\n",
       "      <td>50</td>\n",
       "    </tr>\n",
       "    <tr>\n",
       "      <th>29</th>\n",
       "      <td>Charlize-Theron-Tully3.jpeg</td>\n",
       "      <td>98.615128</td>\n",
       "      <td>Charlize Theron</td>\n",
       "      <td>97.655167</td>\n",
       "      <td>No</td>\n",
       "      <td>50</td>\n",
       "    </tr>\n",
       "  </tbody>\n",
       "</table>\n",
       "</div>"
      ],
      "text/plain": [
       "                              Name  Similarity Celebrity_Recognized  \\\n",
       "0         Christian-Bale-Base.jpeg  100.000000       Christian Bale   \n",
       "1         Christian-Bale-Vice1.jpg    0.000000       Unrecognizable   \n",
       "2        Christian-Bale-Vice2.jpeg    0.000000       Unrecognizable   \n",
       "3        Christian-Bale-Vice3.jpeg    0.000000       Unrecognizable   \n",
       "4   Christian-Bale-machinist3.jpeg   99.815094       Christian Bale   \n",
       "5    christian-bale-american1.jpeg   99.809196         Felix Kramer   \n",
       "6     christian-bale-american2.jpg   99.980438       Christian Bale   \n",
       "7    christian-bale-american3.jpeg   99.969536         Felix Kramer   \n",
       "8    christian-bale-machinist1.png   97.410477       Christian Bale   \n",
       "9   christian-bale-machinist2.jpeg   99.520897       Christian Bale   \n",
       "10            Jared-Leto-Base.jpeg  100.000000           Jared Leto   \n",
       "11        Jared-Leto-Chapter1.jpeg    0.000000           Jared Leto   \n",
       "12        Jared-Leto-Chapter2.jpeg    0.000000           Jared Leto   \n",
       "13        Jared-Leto-Chapter3.jpeg   90.493851           Jared Leto   \n",
       "14         Jared-Leto-Dallas1.jpeg    0.000000       Unrecognizable   \n",
       "15         Jared-Leto-Dallas2.jpeg    0.000000       Unrecognizable   \n",
       "16         Jared-Leto-Dallas3.jpeg    0.000000       Unrecognizable   \n",
       "17          Jared-Leto-joker1.jpeg    0.000000       Unrecognizable   \n",
       "18           Jared-Leto-joker2.png    0.000000       Unrecognizable   \n",
       "19          Jared-Leto-joker3.jpeg    0.000000       Unrecognizable   \n",
       "20       Charlize-Theron-Base.jpeg  100.000000      Charlize Theron   \n",
       "21    Charlize-Theron-Madmax1.jpeg    0.000000       Unrecognizable   \n",
       "22    Charlize-Theron-Madmax2.jpeg   97.272453       Unrecognizable   \n",
       "23    Charlize-Theron-Madmax3.jpeg   94.869904       Unrecognizable   \n",
       "24   Charlize-Theron-Monster1.jpeg    0.000000       Unrecognizable   \n",
       "25   Charlize-Theron-Monster2.jpeg    0.000000       Unrecognizable   \n",
       "26   Charlize-Theron-Monster3.jpeg    0.000000       Unrecognizable   \n",
       "27      Charlize-Theron-Tully1.jpg   99.983475      Charlize Theron   \n",
       "28     Charlize-Theron-Tully2.jpeg   99.932693       Unrecognizable   \n",
       "29     Charlize-Theron-Tully3.jpeg   98.615128      Charlize Theron   \n",
       "\n",
       "    Celebrity_Confidence Makeup  Weight_Change_in_lbs  \n",
       "0              99.544708     No                     0  \n",
       "1               0.000000     No                    40  \n",
       "2               0.000000     No                    40  \n",
       "3               0.000000     No                    40  \n",
       "4              94.874214     No                    65  \n",
       "5              81.725716     No                    43  \n",
       "6              88.991524     No                    43  \n",
       "7              76.393921     No                    43  \n",
       "8              99.657700     No                    65  \n",
       "9              99.595238     No                    65  \n",
       "10             99.244003     No                     0  \n",
       "11             92.987770     No                    70  \n",
       "12             96.524673     No                    70  \n",
       "13             91.769417     No                    70  \n",
       "14              0.000000    Yes                    30  \n",
       "15              0.000000    Yes                    30  \n",
       "16              0.000000    Yes                    30  \n",
       "17              0.000000    Yes                     0  \n",
       "18              0.000000    Yes                     0  \n",
       "19              0.000000    Yes                     0  \n",
       "20             96.863136     No                     0  \n",
       "21              0.000000    Yes                    20  \n",
       "22              0.000000    Yes                    20  \n",
       "23              0.000000    Yes                    20  \n",
       "24              0.000000    Yes                    30  \n",
       "25              0.000000    Yes                    30  \n",
       "26              0.000000    Yes                    30  \n",
       "27             82.433632     No                    50  \n",
       "28              0.000000     No                    50  \n",
       "29             97.655167     No                    50  "
      ]
     },
     "metadata": {},
     "output_type": "display_data"
    }
   ],
   "source": [
    "df = df_christian.append([df_jared, df_charlize],ignore_index=True)\n",
    "display(df)"
   ]
  },
  {
   "cell_type": "markdown",
   "id": "16dabb80",
   "metadata": {},
   "source": [
    "# Analysis"
   ]
  },
  {
   "cell_type": "code",
   "execution_count": 43,
   "id": "f993dd23",
   "metadata": {},
   "outputs": [],
   "source": [
    "import matplotlib.pyplot as plt"
   ]
  },
  {
   "cell_type": "code",
   "execution_count": 44,
   "id": "07bcdbe4",
   "metadata": {},
   "outputs": [],
   "source": [
    "import statsmodels.formula.api as smf"
   ]
  },
  {
   "cell_type": "markdown",
   "id": "980f42a3",
   "metadata": {},
   "source": [
    "## Distribution of Weight Change in lbs"
   ]
  },
  {
   "cell_type": "code",
   "execution_count": 119,
   "id": "90607a56",
   "metadata": {},
   "outputs": [
    {
     "data": {
      "text/plain": [
       "Text(0.5, 1.0, 'Distribution of Weight Change in Lbs')"
      ]
     },
     "execution_count": 119,
     "metadata": {},
     "output_type": "execute_result"
    },
    {
     "data": {
      "image/png": "[encoded data removed]",
      "text/plain": [
       "<Figure size 432x288 with 1 Axes>"
      ]
     },
     "metadata": {
      "needs_background": "light"
     },
     "output_type": "display_data"
    }
   ],
   "source": [
    "plt.hist(df['Weight_Change_in_lbs'])\n",
    "plt.xlabel('Weight_Change_in_lbs')\n",
    "plt.ylabel('Number of photos')\n",
    "plt.title('Distribution of Weight Change in Lbs')"
   ]
  },
  {
   "cell_type": "markdown",
   "id": "f12a32a9",
   "metadata": {},
   "source": [
    "## Distribution of Similarity Score"
   ]
  },
  {
   "cell_type": "code",
   "execution_count": 126,
   "id": "528aabe4",
   "metadata": {},
   "outputs": [
    {
     "data": {
      "text/plain": [
       "Text(0, 0.5, 'Number of photos')"
      ]
     },
     "execution_count": 126,
     "metadata": {},
     "output_type": "execute_result"
    },
    {
     "data": {
      "image/png": "[encoded data removed]",
      "text/plain": [
       "<Figure size 432x288 with 1 Axes>"
      ]
     },
     "metadata": {
      "needs_background": "light"
     },
     "output_type": "display_data"
    }
   ],
   "source": [
    "plt.hist(df['Similarity'])\n",
    "plt.xlabel('Similarity Score')\n",
    "plt.ylabel('Number of photos')"
   ]
  },
  {
   "cell_type": "code",
   "execution_count": 47,
   "id": "7f0f00c6",
   "metadata": {},
   "outputs": [],
   "source": [
    "similarity_very_similar = df[df['Similarity'] > 90]"
   ]
  },
  {
   "cell_type": "code",
   "execution_count": 48,
   "id": "52a44660",
   "metadata": {},
   "outputs": [
    {
     "data": {
      "text/plain": [
       "Text(0.5, 1.0, 'Distribution of similarity scores (above 90)')"
      ]
     },
     "execution_count": 48,
     "metadata": {},
     "output_type": "execute_result"
    },
    {
     "data": {
      "image/png": "[encoded data removed]",
      "text/plain": [
       "<Figure size 432x288 with 1 Axes>"
      ]
     },
     "metadata": {
      "needs_background": "light"
     },
     "output_type": "display_data"
    }
   ],
   "source": [
    "plt.hist(similarity_very_similar['Similarity'], bins = 5)\n",
    "plt.xlabel('Similarity Score')\n",
    "plt.ylabel('Number of photos')\n",
    "plt.title('Distribution of similarity scores (above 90)')"
   ]
  },
  {
   "cell_type": "markdown",
   "id": "120ad890",
   "metadata": {},
   "source": [
    "## Distribution of Celebritity Confidence Score"
   ]
  },
  {
   "cell_type": "code",
   "execution_count": 49,
   "id": "900dc5f5",
   "metadata": {},
   "outputs": [
    {
     "data": {
      "text/plain": [
       "(array([16.,  0.,  0.,  0.,  0.,  0.,  0.,  1.,  3., 10.]),\n",
       " array([ 0.        ,  9.96576996, 19.93153992, 29.89730988, 39.86307983,\n",
       "        49.82884979, 59.79461975, 69.76038971, 79.72615967, 89.69192963,\n",
       "        99.65769958]),\n",
       " <BarContainer object of 10 artists>)"
      ]
     },
     "execution_count": 49,
     "metadata": {},
     "output_type": "execute_result"
    },
    {
     "data": {
      "image/png": "[encoded data removed]",
      "text/plain": [
       "<Figure size 432x288 with 1 Axes>"
      ]
     },
     "metadata": {
      "needs_background": "light"
     },
     "output_type": "display_data"
    }
   ],
   "source": [
    "plt.hist(df['Celebrity_Confidence'])"
   ]
  },
  {
   "cell_type": "code",
   "execution_count": 50,
   "id": "29abd286",
   "metadata": {},
   "outputs": [],
   "source": [
    "confidence_very_similar = df[df['Celebrity_Confidence'] > 90]"
   ]
  },
  {
   "cell_type": "code",
   "execution_count": 51,
   "id": "c687af5b",
   "metadata": {},
   "outputs": [
    {
     "data": {
      "text/plain": [
       "Text(0.5, 1.0, 'Distribution of Celebrity Confidence scores (above 90)')"
      ]
     },
     "execution_count": 51,
     "metadata": {},
     "output_type": "execute_result"
    },
    {
     "data": {
      "image/png": "[encoded data removed]",
      "text/plain": [
       "<Figure size 432x288 with 1 Axes>"
      ]
     },
     "metadata": {
      "needs_background": "light"
     },
     "output_type": "display_data"
    }
   ],
   "source": [
    "plt.hist(confidence_very_similar['Celebrity_Confidence'], bins = 5)\n",
    "plt.xlabel('Confidence Score')\n",
    "plt.ylabel('Number of photos')\n",
    "plt.title('Distribution of Celebrity Confidence scores (above 90)')"
   ]
  },
  {
   "cell_type": "markdown",
   "id": "a8dd31d1",
   "metadata": {},
   "source": [
    "### The relationship between Weight Change in Lbs and the Similarity Score"
   ]
  },
  {
   "cell_type": "markdown",
   "id": "96a5ee75",
   "metadata": {},
   "source": [
    "The scatter plot:"
   ]
  },
  {
   "cell_type": "code",
   "execution_count": 52,
   "id": "c5864ef3",
   "metadata": {},
   "outputs": [
    {
     "data": {
      "text/plain": [
       "[<matplotlib.lines.Line2D at 0x7ff4391deac8>]"
      ]
     },
     "execution_count": 52,
     "metadata": {},
     "output_type": "execute_result"
    },
    {
     "data": {
      "image/png": "[encoded data removed]",
      "text/plain": [
       "<Figure size 432x288 with 1 Axes>"
      ]
     },
     "metadata": {
      "needs_background": "light"
     },
     "output_type": "display_data"
    }
   ],
   "source": [
    "plt.plot(df['Weight_Change_in_lbs'], df['Similarity'], 'o', alpha=0.3, markersize=10)"
   ]
  },
  {
   "cell_type": "markdown",
   "id": "6b92ee88",
   "metadata": {},
   "source": [
    "Regression analysis:"
   ]
  },
  {
   "cell_type": "code",
   "execution_count": 53,
   "id": "fe934f2b",
   "metadata": {},
   "outputs": [],
   "source": [
    "x = smf.ols('Similarity ~ Weight_Change_in_lbs', data=df).fit()"
   ]
  },
  {
   "cell_type": "code",
   "execution_count": 121,
   "id": "8650afce",
   "metadata": {},
   "outputs": [
    {
     "data": {
      "text/plain": [
       "Text(0, 0.5, 'Similarity Score')"
      ]
     },
     "execution_count": 121,
     "metadata": {},
     "output_type": "execute_result"
    },
    {
     "data": {
      "image/png": "[encoded data removed]",
      "text/plain": [
       "<Figure size 432x288 with 1 Axes>"
      ]
     },
     "metadata": {
      "needs_background": "light"
     },
     "output_type": "display_data"
    }
   ],
   "source": [
    "plt.plot(df['Weight_Change_in_lbs'], df['Similarity'], 'o', alpha=0.3, markersize=10)\n",
    "plt.plot(df['Weight_Change_in_lbs'], x.predict(df['Weight_Change_in_lbs']))\n",
    "plt.xlabel('Weight change in lbs')\n",
    "plt.ylabel('Similarity Score')"
   ]
  },
  {
   "cell_type": "code",
   "execution_count": 122,
   "id": "bc584a8c",
   "metadata": {},
   "outputs": [
    {
     "data": {
      "text/plain": [
       "Intercept               36.093287\n",
       "Weight_Change_in_lbs     0.378232\n",
       "dtype: float64"
      ]
     },
     "execution_count": 122,
     "metadata": {},
     "output_type": "execute_result"
    }
   ],
   "source": [
    "x.params"
   ]
  },
  {
   "cell_type": "markdown",
   "id": "34acd3a6",
   "metadata": {},
   "source": [
    "### The relationship between Weight Change in Lbs and the Celebrity Rekognition Confidence Score"
   ]
  },
  {
   "cell_type": "markdown",
   "id": "f8945e0a",
   "metadata": {},
   "source": [
    "The scatter plot:"
   ]
  },
  {
   "cell_type": "code",
   "execution_count": 56,
   "id": "b20aadbf",
   "metadata": {},
   "outputs": [
    {
     "data": {
      "text/plain": [
       "[<matplotlib.lines.Line2D at 0x7ff4390d87b8>]"
      ]
     },
     "execution_count": 56,
     "metadata": {},
     "output_type": "execute_result"
    },
    {
     "data": {
      "image/png": "[encoded data removed]",
      "text/plain": [
       "<Figure size 432x288 with 1 Axes>"
      ]
     },
     "metadata": {
      "needs_background": "light"
     },
     "output_type": "display_data"
    }
   ],
   "source": [
    "plt.plot(df['Weight_Change_in_lbs'], df['Celebrity_Confidence'], 'o', alpha=0.3, markersize=10)"
   ]
  },
  {
   "cell_type": "code",
   "execution_count": 57,
   "id": "3580dda3",
   "metadata": {},
   "outputs": [],
   "source": [
    "df_over_40 = df[df['Weight_Change_in_lbs']>40]"
   ]
  },
  {
   "cell_type": "code",
   "execution_count": 58,
   "id": "13f17277",
   "metadata": {},
   "outputs": [
    {
     "data": {
      "text/plain": [
       "[<matplotlib.lines.Line2D at 0x7ff4390461d0>]"
      ]
     },
     "execution_count": 58,
     "metadata": {},
     "output_type": "execute_result"
    },
    {
     "data": {
      "image/png": "[encoded data removed]",
      "text/plain": [
       "<Figure size 432x288 with 1 Axes>"
      ]
     },
     "metadata": {
      "needs_background": "light"
     },
     "output_type": "display_data"
    }
   ],
   "source": [
    "plt.plot(df_over_40['Weight_Change_in_lbs'], df_over_40['Celebrity_Confidence'], 'o', alpha=0.3, markersize=10)"
   ]
  },
  {
   "cell_type": "code",
   "execution_count": 59,
   "id": "759f19ca",
   "metadata": {},
   "outputs": [],
   "source": [
    "y = smf.ols('Celebrity_Confidence ~ Weight_Change_in_lbs', data=df).fit()"
   ]
  },
  {
   "cell_type": "code",
   "execution_count": 123,
   "id": "70c8de37",
   "metadata": {},
   "outputs": [
    {
     "data": {
      "text/plain": [
       "Text(0, 0.5, 'Confidence Score')"
      ]
     },
     "execution_count": 123,
     "metadata": {},
     "output_type": "execute_result"
    },
    {
     "data": {
      "image/png": "[encoded data removed]",
      "text/plain": [
       "<Figure size 432x288 with 1 Axes>"
      ]
     },
     "metadata": {
      "needs_background": "light"
     },
     "output_type": "display_data"
    }
   ],
   "source": [
    "plt.plot(df['Weight_Change_in_lbs'], df['Celebrity_Confidence'], 'o', alpha=0.3, markersize=10)\n",
    "plt.plot(df['Weight_Change_in_lbs'], y.predict(df['Weight_Change_in_lbs']))\n",
    "plt.xlabel('Weight change in lbs')\n",
    "plt.ylabel('Confidence Score')"
   ]
  },
  {
   "cell_type": "code",
   "execution_count": 61,
   "id": "75261b7e",
   "metadata": {},
   "outputs": [
    {
     "data": {
      "text/plain": [
       "Intercept               13.489675\n",
       "Weight_Change_in_lbs     0.855911\n",
       "dtype: float64"
      ]
     },
     "execution_count": 61,
     "metadata": {},
     "output_type": "execute_result"
    }
   ],
   "source": [
    "y.params"
   ]
  },
  {
   "cell_type": "code",
   "execution_count": 62,
   "id": "0e7e169a",
   "metadata": {},
   "outputs": [],
   "source": [
    "results_over_40 = smf.ols('Celebrity_Confidence ~ Weight_Change_in_lbs', data=df_over_40).fit()"
   ]
  },
  {
   "cell_type": "code",
   "execution_count": 63,
   "id": "02ad8e63",
   "metadata": {},
   "outputs": [
    {
     "data": {
      "text/plain": [
       "Intercept               32.294330\n",
       "Weight_Change_in_lbs     0.899235\n",
       "dtype: float64"
      ]
     },
     "execution_count": 63,
     "metadata": {},
     "output_type": "execute_result"
    }
   ],
   "source": [
    "results_over_40.params"
   ]
  },
  {
   "cell_type": "code",
   "execution_count": 125,
   "id": "70fddfd5",
   "metadata": {},
   "outputs": [
    {
     "data": {
      "text/plain": [
       "Text(0, 0.5, 'Confidence Score')"
      ]
     },
     "execution_count": 125,
     "metadata": {},
     "output_type": "execute_result"
    },
    {
     "data": {
      "image/png": "[encoded data removed]",
      "text/plain": [
       "<Figure size 432x288 with 1 Axes>"
      ]
     },
     "metadata": {
      "needs_background": "light"
     },
     "output_type": "display_data"
    }
   ],
   "source": [
    "plt.plot(df_over_40['Weight_Change_in_lbs'], df_over_40['Celebrity_Confidence'], 'o', alpha=0.3, markersize=10)\n",
    "plt.plot(df_over_40['Weight_Change_in_lbs'], results_over_40.predict(df_over_40['Weight_Change_in_lbs']))\n",
    "plt.xlabel('Weight change in lbs')\n",
    "plt.ylabel('Confidence Score')"
   ]
  },
  {
   "cell_type": "markdown",
   "id": "d1db98c0",
   "metadata": {},
   "source": [
    "### We want to investigate how wearing makeup affect the celebrity rekognition confidence score and similarity score"
   ]
  },
  {
   "cell_type": "code",
   "execution_count": 65,
   "id": "53c7e0a1",
   "metadata": {},
   "outputs": [],
   "source": [
    "grouped_df = df.groupby(\"Makeup\")\n",
    "mean_df = grouped_df.mean()"
   ]
  },
  {
   "cell_type": "code",
   "execution_count": 66,
   "id": "04dd24f1",
   "metadata": {},
   "outputs": [
    {
     "data": {
      "text/html": [
       "<div>\n",
       "<style scoped>\n",
       "    .dataframe tbody tr th:only-of-type {\n",
       "        vertical-align: middle;\n",
       "    }\n",
       "\n",
       "    .dataframe tbody tr th {\n",
       "        vertical-align: top;\n",
       "    }\n",
       "\n",
       "    .dataframe thead th {\n",
       "        text-align: right;\n",
       "    }\n",
       "</style>\n",
       "<table border=\"1\" class=\"dataframe\">\n",
       "  <thead>\n",
       "    <tr style=\"text-align: right;\">\n",
       "      <th></th>\n",
       "      <th>Similarity</th>\n",
       "      <th>Celebrity_Confidence</th>\n",
       "    </tr>\n",
       "    <tr>\n",
       "      <th>Makeup</th>\n",
       "      <th></th>\n",
       "      <th></th>\n",
       "    </tr>\n",
       "  </thead>\n",
       "  <tbody>\n",
       "    <tr>\n",
       "      <th>No</th>\n",
       "      <td>71.418377</td>\n",
       "      <td>72.125601</td>\n",
       "    </tr>\n",
       "    <tr>\n",
       "      <th>Yes</th>\n",
       "      <td>16.011863</td>\n",
       "      <td>0.000000</td>\n",
       "    </tr>\n",
       "  </tbody>\n",
       "</table>\n",
       "</div>"
      ],
      "text/plain": [
       "        Similarity  Celebrity_Confidence\n",
       "Makeup                                  \n",
       "No       71.418377             72.125601\n",
       "Yes      16.011863              0.000000"
      ]
     },
     "execution_count": 66,
     "metadata": {},
     "output_type": "execute_result"
    }
   ],
   "source": [
    "mean_df[[\"Similarity\", \"Celebrity_Confidence\"]]\n",
    "\n"
   ]
  },
  {
   "cell_type": "code",
   "execution_count": 67,
   "id": "79b2f602",
   "metadata": {},
   "outputs": [
    {
     "data": {
      "image/png": "[encoded data removed]",
      "text/plain": [
       "<Figure size 576x360 with 1 Axes>"
      ]
     },
     "metadata": {
      "needs_background": "light"
     },
     "output_type": "display_data"
    }
   ],
   "source": [
    "import matplotlib.pyplot as plt\n",
    "ax = mean_df[['Similarity','Celebrity_Confidence']].plot(kind='bar', title =\"Average Confidence Score Between Makeup vs No Makeup\", figsize=(8, 5), legend=True, fontsize=12)\n",
    "ax.set_xlabel(\"Makeup\", fontsize=12)\n",
    "ax.set_ylabel(\"Average Score\", fontsize=12)\n",
    "plt.show()"
   ]
  },
  {
   "cell_type": "code",
   "execution_count": 128,
   "id": "11d77ea3",
   "metadata": {},
   "outputs": [
    {
     "name": "stdout",
     "output_type": "stream",
     "text": [
      "download: s3://charlizefacematch/Charlize-Theron-Monster2.jpeg to Charlizefacematch/Charlize-Theron-Monster2.jpeg\n",
      "download: s3://charlizefacematch/Charlize-Theron-Monster3.jpeg to Charlizefacematch/Charlize-Theron-Monster3.jpeg\n",
      "download: s3://charlizefacematch/Charlize-Theron-Monster1.jpeg to Charlizefacematch/Charlize-Theron-Monster1.jpeg\n",
      "download: s3://charlizefacematch/Charlize-Theron-Base.jpeg to Charlizefacematch/Charlize-Theron-Base.jpeg\n",
      "download: s3://charlizefacematch/Charlize-Theron-Tully2.jpeg to Charlizefacematch/Charlize-Theron-Tully2.jpeg\n",
      "download: s3://charlizefacematch/Charlize-Theron-Tully1.jpg to Charlizefacematch/Charlize-Theron-Tully1.jpg\n",
      "download: s3://charlizefacematch/Charlize-Theron-Madmax2.jpeg to Charlizefacematch/Charlize-Theron-Madmax2.jpeg\n",
      "download: s3://charlizefacematch/Charlize-Theron-Madmax1.jpeg to Charlizefacematch/Charlize-Theron-Madmax1.jpeg\n",
      "download: s3://charlizefacematch/Charlize-Theron-Tully3.jpeg to Charlizefacematch/Charlize-Theron-Tully3.jpeg\n",
      "download: s3://charlizefacematch/Charlize-Theron-Madmax3.jpeg to Charlizefacematch/Charlize-Theron-Madmax3.jpeg\n"
     ]
    }
   ],
   "source": [
    "!aws s3 cp s3://charlizefacematch ./Charlizefacematch --recursive"
   ]
  },
  {
   "cell_type": "code",
   "execution_count": 129,
   "id": "b54eda7b",
   "metadata": {},
   "outputs": [
    {
     "name": "stdout",
     "output_type": "stream",
     "text": [
      "download: s3://christianfacematch/Christian-Bale-Vice1.jpg to Christianfacematch/Christian-Bale-Vice1.jpg\n",
      "download: s3://christianfacematch/Christian-Bale-Vice2.jpeg to Christianfacematch/Christian-Bale-Vice2.jpeg\n",
      "download: s3://christianfacematch/Christian-Bale-Vice3.jpeg to Christianfacematch/Christian-Bale-Vice3.jpeg\n",
      "download: s3://christianfacematch/Christian-Bale-machinist3.jpeg to Christianfacematch/Christian-Bale-machinist3.jpeg\n",
      "download: s3://christianfacematch/christian-bale-american1.jpeg to Christianfacematch/christian-bale-american1.jpeg\n",
      "download: s3://christianfacematch/christian-bale-american3.jpeg to Christianfacematch/christian-bale-american3.jpeg\n",
      "download: s3://christianfacematch/Christian-Bale-Base.jpeg to Christianfacematch/Christian-Bale-Base.jpeg\n",
      "download: s3://christianfacematch/christian-bale-machinist1.png to Christianfacematch/christian-bale-machinist1.png\n",
      "download: s3://christianfacematch/christian-bale-american2.jpg to Christianfacematch/christian-bale-american2.jpg\n",
      "download: s3://christianfacematch/christian-bale-machinist2.jpeg to Christianfacematch/christian-bale-machinist2.jpeg\n"
     ]
    }
   ],
   "source": [
    "!aws s3 cp s3://christianfacematch ./Christianfacematch --recursive"
   ]
  },
  {
   "cell_type": "code",
   "execution_count": 130,
   "id": "5815c5b2",
   "metadata": {},
   "outputs": [
    {
     "name": "stdout",
     "output_type": "stream",
     "text": [
      "download: s3://jaredfacematch/Jared-Leto-Chapter2.jpeg to Jaredfacematch/Jared-Leto-Chapter2.jpeg\n",
      "download: s3://jaredfacematch/Jared-Leto-Base.jpeg to Jaredfacematch/Jared-Leto-Base.jpeg\n",
      "download: s3://jaredfacematch/Jared-Leto-Dallas1.jpeg to Jaredfacematch/Jared-Leto-Dallas1.jpeg\n",
      "download: s3://jaredfacematch/Jared-Leto-Chapter1.jpeg to Jaredfacematch/Jared-Leto-Chapter1.jpeg\n",
      "download: s3://jaredfacematch/Jared-Leto-Chapter3.jpeg to Jaredfacematch/Jared-Leto-Chapter3.jpeg\n",
      "download: s3://jaredfacematch/Jared-Leto-Dallas2.jpeg to Jaredfacematch/Jared-Leto-Dallas2.jpeg\n",
      "download: s3://jaredfacematch/Jared-Leto-joker1.jpeg to Jaredfacematch/Jared-Leto-joker1.jpeg\n",
      "download: s3://jaredfacematch/Jared-Leto-joker2.png to Jaredfacematch/Jared-Leto-joker2.png\n",
      "download: s3://jaredfacematch/Jared-Leto-Dallas3.jpeg to Jaredfacematch/Jared-Leto-Dallas3.jpeg\n",
      "download: s3://jaredfacematch/Jared-Leto-joker3.jpeg to Jaredfacematch/Jared-Leto-joker3.jpeg\n"
     ]
    }
   ],
   "source": [
    "!aws s3 cp s3://jaredfacematch ./Jaredfacematch --recursive"
   ]
  },
  {
   "cell_type": "code",
   "execution_count": 131,
   "id": "226174b8",
   "metadata": {},
   "outputs": [
    {
     "name": "stdout",
     "output_type": "stream",
     "text": [
      "download: s3://projectvuadachi/Charlize-Theron-Monster2.jpeg to Projectvuadachi/Charlize-Theron-Monster2.jpeg\n",
      "download: s3://projectvuadachi/Charlize-Theron-Monster3.jpeg to Projectvuadachi/Charlize-Theron-Monster3.jpeg\n",
      "download: s3://projectvuadachi/Charlize-Theron-Tully2.jpeg to Projectvuadachi/Charlize-Theron-Tully2.jpeg\n",
      "download: s3://projectvuadachi/Charlize-Theron-Tully1.jpg to Projectvuadachi/Charlize-Theron-Tully1.jpg\n",
      "download: s3://projectvuadachi/Christian-Bale-Vice1.jpg to Projectvuadachi/Christian-Bale-Vice1.jpg\n",
      "download: s3://projectvuadachi/Charlize-Theron-Base.jpeg to Projectvuadachi/Charlize-Theron-Base.jpeg\n",
      "download: s3://projectvuadachi/Charlize-Theron-Madmax3.jpeg to Projectvuadachi/Charlize-Theron-Madmax3.jpeg\n",
      "download: s3://projectvuadachi/Charlize-Theron-Tully3.jpeg to Projectvuadachi/Charlize-Theron-Tully3.jpeg\n",
      "download: s3://projectvuadachi/Charlize-Theron-Madmax2.jpeg to Projectvuadachi/Charlize-Theron-Madmax2.jpeg\n",
      "download: s3://projectvuadachi/Charlize-Theron-Madmax1.jpeg to Projectvuadachi/Charlize-Theron-Madmax1.jpeg\n",
      "download: s3://projectvuadachi/Christian-Bale-Vice2.jpeg to Projectvuadachi/Christian-Bale-Vice2.jpeg\n",
      "download: s3://projectvuadachi/Jared-Leto-Dallas1.jpeg to Projectvuadachi/Jared-Leto-Dallas1.jpeg\n",
      "download: s3://projectvuadachi/Christian-Bale-machinist3.jpeg to Projectvuadachi/Christian-Bale-machinist3.jpeg\n",
      "download: s3://projectvuadachi/Jared-Leto-Chapter3.jpeg to Projectvuadachi/Jared-Leto-Chapter3.jpeg\n",
      "download: s3://projectvuadachi/Christian-Bale-Vice3.jpeg to Projectvuadachi/Christian-Bale-Vice3.jpeg\n",
      "download: s3://projectvuadachi/Jared-Leto-joker1.jpeg to Projectvuadachi/Jared-Leto-joker1.jpeg\n",
      "download: s3://projectvuadachi/Jared-Leto-Dallas2.jpeg to Projectvuadachi/Jared-Leto-Dallas2.jpeg\n",
      "download: s3://projectvuadachi/Jared-Leto-Base.jpeg to Projectvuadachi/Jared-Leto-Base.jpeg\n",
      "download: s3://projectvuadachi/Jared-Leto-Chapter2.jpeg to Projectvuadachi/Jared-Leto-Chapter2.jpeg\n",
      "download: s3://projectvuadachi/Jared-Leto-joker2.png to Projectvuadachi/Jared-Leto-joker2.png\n",
      "download: s3://projectvuadachi/Jared-Leto-joker3.jpeg to Projectvuadachi/Jared-Leto-joker3.jpeg\n",
      "download: s3://projectvuadachi/christian-bale-machinist2.jpeg to Projectvuadachi/christian-bale-machinist2.jpeg\n",
      "download: s3://projectvuadachi/christian-bale-american3.jpeg to Projectvuadachi/christian-bale-american3.jpeg\n",
      "download: s3://projectvuadachi/christian-bale-american2.jpg to Projectvuadachi/christian-bale-american2.jpg\n",
      "download: s3://projectvuadachi/Jared-Leto-Chapter1.jpeg to Projectvuadachi/Jared-Leto-Chapter1.jpeg\n",
      "download: s3://projectvuadachi/Jared-Leto-Dallas3.jpeg to Projectvuadachi/Jared-Leto-Dallas3.jpeg\n",
      "download: s3://projectvuadachi/confidence_weightchanges.png to Projectvuadachi/confidence_weightchanges.png\n",
      "download: s3://projectvuadachi/confidence_weightchanges_40.png to Projectvuadachi/confidence_weightchanges_40.png\n",
      "download: s3://projectvuadachi/confidence_param.png to Projectvuadachi/confidence_param.png\n",
      "download: s3://projectvuadachi/confidence_distribution.png to Projectvuadachi/confidence_distribution.png\n",
      "download: s3://projectvuadachi/over40_param.png to Projectvuadachi/over40_param.png\n",
      "download: s3://projectvuadachi/christian-bale-machinist1.png to Projectvuadachi/christian-bale-machinist1.png\n",
      "download: s3://projectvuadachi/similarity_param.png to Projectvuadachi/similarity_param.png\n",
      "download: s3://projectvuadachi/christian-bale-american1.jpeg to Projectvuadachi/christian-bale-american1.jpeg\n",
      "download: s3://projectvuadachi/confidence_makeuop.png to Projectvuadachi/confidence_makeuop.png\n",
      "download: s3://projectvuadachi/weightchange_distribution.png to Projectvuadachi/weightchange_distribution.png\n",
      "download: s3://projectvuadachi/similarity_distribution.png to Projectvuadachi/similarity_distribution.png\n",
      "download: s3://projectvuadachi/similiarity_distribution_90.png to Projectvuadachi/similiarity_distribution_90.png\n",
      "download: s3://projectvuadachi/similiarity_weightchange.png to Projectvuadachi/similiarity_weightchange.png\n",
      "download: s3://projectvuadachi/Christian-Bale-Base.jpeg to Projectvuadachi/Christian-Bale-Base.jpeg\n",
      "download: s3://projectvuadachi/Charlize-Theron-Monster1.jpeg to Projectvuadachi/Charlize-Theron-Monster1.jpeg\n"
     ]
    }
   ],
   "source": [
    "!aws s3 cp s3://projectvuadachi ./Projectvuadachi --recursive"
   ]
  },
  {
   "cell_type": "code",
   "execution_count": null,
   "id": "f8766b59",
   "metadata": {},
   "outputs": [],
   "source": []
  }
 ],
 "metadata": {
  "kernelspec": {
   "display_name": "conda_python3",
   "language": "python",
   "name": "conda_python3"
  },
  "language_info": {
   "codemirror_mode": {
    "name": "ipython",
    "version": 3
   },
   "file_extension": ".py",
   "mimetype": "text/x-python",
   "name": "python",
   "nbconvert_exporter": "python",
   "pygments_lexer": "ipython3",
   "version": "3.6.13"
  }
 },
 "nbformat": 4,
 "nbformat_minor": 5
}
