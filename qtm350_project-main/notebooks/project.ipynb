{
 "cells": [
  {
   "cell_type": "markdown",
   "id": "7a603b37",
   "metadata": {},
   "source": [
    "# AWS Rekognition on Actors"
   ]
  },
  {
   "cell_type": "code",
   "execution_count": 352,
   "id": "bdb478a0",
   "metadata": {},
   "outputs": [
    {
     "name": "stdout",
     "output_type": "stream",
     "text": [
      "2021-11-29 21:50:53 actorsdataframe-storage\n",
      "2021-11-15 18:22:56 charlizefacematch\n",
      "2021-11-15 18:24:32 christianfacematch\n",
      "2021-11-15 18:26:03 jaredfacematch\n",
      "2021-11-15 04:32:43 projectvuadachi\n"
     ]
    }
   ],
   "source": [
    "!aws s3 ls"
   ]
  },
  {
   "cell_type": "markdown",
   "id": "e9615f9d",
   "metadata": {},
   "source": [
    "Let's check what is in the bucket we made now."
   ]
  },
  {
   "cell_type": "code",
   "execution_count": 353,
   "id": "ce0c25bc",
   "metadata": {},
   "outputs": [
    {
     "name": "stdout",
     "output_type": "stream",
     "text": [
      "2021-11-15 06:54:58     128733 Charlize-Theron-Base.jpeg\n",
      "2021-11-15 06:54:58    1621791 Charlize-Theron-Madmax1.jpeg\n",
      "2021-11-15 06:54:59     129797 Charlize-Theron-Madmax2.jpeg\n",
      "2021-11-15 06:54:59     558913 Charlize-Theron-Madmax3.jpeg\n",
      "2021-11-15 06:55:00      52269 Charlize-Theron-Monster1.jpeg\n",
      "2021-11-15 06:55:00      29765 Charlize-Theron-Monster2.jpeg\n",
      "2021-11-15 06:54:57      44874 Charlize-Theron-Monster3.jpeg\n",
      "2021-11-15 06:55:00      69217 Charlize-Theron-Tully1.jpg\n",
      "2021-11-15 06:55:00      28695 Charlize-Theron-Tully2.jpeg\n",
      "2021-11-15 06:55:01     216856 Charlize-Theron-Tully3.jpeg\n",
      "2021-11-15 06:55:02    3567076 Christian-Bale-Base.jpeg\n",
      "2021-11-15 06:55:04      67034 Christian-Bale-Vice1.jpg\n",
      "2021-11-15 06:55:05      80790 Christian-Bale-Vice2.jpeg\n",
      "2021-11-15 06:55:05     187023 Christian-Bale-Vice3.jpeg\n",
      "2021-11-15 06:54:57     158965 Christian-Bale-machinist3.jpeg\n",
      "2021-11-15 06:55:06      88626 Jared-Leto-Base.jpeg\n",
      "2021-11-15 06:55:06      21630 Jared-Leto-Chapter1.jpeg\n",
      "2021-11-15 06:55:07      17678 Jared-Leto-Chapter2.jpeg\n",
      "2021-11-15 06:55:07     144041 Jared-Leto-Chapter3.jpeg\n",
      "2021-11-15 06:55:07      45176 Jared-Leto-Dallas1.jpeg\n",
      "2021-11-15 06:55:08     176375 Jared-Leto-Dallas2.jpeg\n",
      "2021-11-15 06:55:08     380196 Jared-Leto-Dallas3.jpeg\n",
      "2021-11-15 06:55:09      96655 Jared-Leto-joker1.jpeg\n",
      "2021-11-15 06:55:09     414747 Jared-Leto-joker2.png\n",
      "2021-11-15 06:55:09     216433 Jared-Leto-joker3.jpeg\n",
      "2021-11-15 06:55:01      24465 christian-bale-american1.jpeg\n",
      "2021-11-15 06:55:01      29021 christian-bale-american2.jpg\n",
      "2021-11-15 06:55:02     290137 christian-bale-american3.jpeg\n",
      "2021-11-15 06:55:03     494960 christian-bale-machinist1.png\n",
      "2021-11-15 06:55:04      22787 christian-bale-machinist2.jpeg\n",
      "2021-11-29 23:13:54      67848 confidence_distribution.png\n",
      "2021-11-29 23:13:56      85697 confidence_makeuop.png\n",
      "2021-11-29 23:13:56      21151 confidence_param.png\n",
      "2021-11-29 23:13:53      67541 confidence_weightchanges.png\n",
      "2021-11-29 23:13:57      56818 confidence_weightchanges_40.png\n",
      "2021-11-29 23:13:56      21379 over40_param.png\n",
      "2021-11-29 23:13:54      44896 similarity_distribution.png\n",
      "2021-11-29 23:13:57      21168 similarity_param.png\n",
      "2021-11-29 23:13:55      53960 similiarity_distribution_90.png\n",
      "2021-11-29 23:13:54      61936 similiarity_weightchange.png\n",
      "2021-11-29 23:13:55      57162 weightchange_distribution.png\n"
     ]
    }
   ],
   "source": [
    "!aws s3 ls projectvuadachi"
   ]
  },
  {
   "cell_type": "markdown",
   "id": "378cd26f",
   "metadata": {},
   "source": [
    "## Celebrity Rekognition with the Python SDK"
   ]
  },
  {
   "cell_type": "code",
   "execution_count": 354,
   "id": "0c7d3b89",
   "metadata": {},
   "outputs": [],
   "source": [
    "import boto3"
   ]
  },
  {
   "cell_type": "code",
   "execution_count": 355,
   "id": "b594bdf8",
   "metadata": {},
   "outputs": [],
   "source": [
    "client=boto3.client('rekognition')"
   ]
  },
  {
   "cell_type": "code",
   "execution_count": 356,
   "id": "963d0fe3",
   "metadata": {},
   "outputs": [
    {
     "data": {
      "text/plain": [
       "s3.Bucket.objectsCollection(s3.Bucket(name='projectvuadachi'), s3.ObjectSummary)"
      ]
     },
     "execution_count": 356,
     "metadata": {},
     "output_type": "execute_result"
    }
   ],
   "source": [
    "s3_resource = boto3.resource('s3')\n",
    "my_bucket = s3_resource.Bucket('projectvuadachi')\n",
    "summaries = my_bucket.objects.all()\n",
    "summaries"
   ]
  },
  {
   "cell_type": "code",
   "execution_count": 357,
   "id": "9879869b",
   "metadata": {},
   "outputs": [
    {
     "data": {
      "text/plain": [
       "['Charlize-Theron-Base.jpeg',\n",
       " 'Charlize-Theron-Madmax1.jpeg',\n",
       " 'Charlize-Theron-Madmax2.jpeg',\n",
       " 'Charlize-Theron-Madmax3.jpeg',\n",
       " 'Charlize-Theron-Monster1.jpeg',\n",
       " 'Charlize-Theron-Monster2.jpeg',\n",
       " 'Charlize-Theron-Monster3.jpeg',\n",
       " 'Charlize-Theron-Tully1.jpg',\n",
       " 'Charlize-Theron-Tully2.jpeg',\n",
       " 'Charlize-Theron-Tully3.jpeg',\n",
       " 'Christian-Bale-Base.jpeg',\n",
       " 'Christian-Bale-Vice1.jpg',\n",
       " 'Christian-Bale-Vice2.jpeg',\n",
       " 'Christian-Bale-Vice3.jpeg',\n",
       " 'Christian-Bale-machinist3.jpeg',\n",
       " 'Jared-Leto-Base.jpeg',\n",
       " 'Jared-Leto-Chapter1.jpeg',\n",
       " 'Jared-Leto-Chapter2.jpeg',\n",
       " 'Jared-Leto-Chapter3.jpeg',\n",
       " 'Jared-Leto-Dallas1.jpeg',\n",
       " 'Jared-Leto-Dallas2.jpeg',\n",
       " 'Jared-Leto-Dallas3.jpeg',\n",
       " 'Jared-Leto-joker1.jpeg',\n",
       " 'Jared-Leto-joker2.png',\n",
       " 'Jared-Leto-joker3.jpeg',\n",
       " 'christian-bale-american1.jpeg',\n",
       " 'christian-bale-american2.jpg',\n",
       " 'christian-bale-american3.jpeg',\n",
       " 'christian-bale-machinist1.png',\n",
       " 'christian-bale-machinist2.jpeg',\n",
       " 'confidence_distribution.png',\n",
       " 'confidence_makeuop.png',\n",
       " 'confidence_param.png',\n",
       " 'confidence_weightchanges.png',\n",
       " 'confidence_weightchanges_40.png',\n",
       " 'over40_param.png',\n",
       " 'similarity_distribution.png',\n",
       " 'similarity_param.png',\n",
       " 'similiarity_distribution_90.png',\n",
       " 'similiarity_weightchange.png',\n",
       " 'weightchange_distribution.png']"
      ]
     },
     "execution_count": 357,
     "metadata": {},
     "output_type": "execute_result"
    }
   ],
   "source": [
    "images = []\n",
    "for image in summaries:\n",
    "    images.append(image.key)\n",
    "images"
   ]
  },
  {
   "cell_type": "markdown",
   "id": "3e02e178",
   "metadata": {},
   "source": [
    "The function below loops through the photos in the s3 bucket projectvuadachi and return the photo name, a celebrity name and confidence interval using AWS Celebrity Rekognition. If it does not recognize anyone in the photo, it will return just the photo name"
   ]
  },
  {
   "cell_type": "code",
   "execution_count": 358,
   "id": "db933662",
   "metadata": {},
   "outputs": [
    {
     "name": "stdout",
     "output_type": "stream",
     "text": [
      "Detected faces for Charlize-Theron-Base.jpeg\n",
      "Name: Charlize Theron\n",
      "Confidence: 96.8631362915039\n",
      "Detected faces for Charlize-Theron-Madmax1.jpeg\n",
      "Detected faces for Charlize-Theron-Madmax2.jpeg\n",
      "Detected faces for Charlize-Theron-Madmax3.jpeg\n",
      "Detected faces for Charlize-Theron-Monster1.jpeg\n",
      "Detected faces for Charlize-Theron-Monster2.jpeg\n",
      "Detected faces for Charlize-Theron-Monster3.jpeg\n",
      "Detected faces for Charlize-Theron-Tully1.jpg\n",
      "Name: Charlize Theron\n",
      "Confidence: 82.43363189697266\n",
      "Detected faces for Charlize-Theron-Tully2.jpeg\n",
      "Detected faces for Charlize-Theron-Tully3.jpeg\n",
      "Name: Charlize Theron\n",
      "Confidence: 97.65516662597656\n",
      "Detected faces for Christian-Bale-Base.jpeg\n",
      "Name: Christian Bale\n",
      "Confidence: 99.54470825195312\n",
      "Detected faces for Christian-Bale-Vice1.jpg\n",
      "Detected faces for Christian-Bale-Vice2.jpeg\n",
      "Detected faces for Christian-Bale-Vice3.jpeg\n",
      "Detected faces for Christian-Bale-machinist3.jpeg\n",
      "Name: Christian Bale\n",
      "Confidence: 94.87421417236328\n",
      "Detected faces for Jared-Leto-Base.jpeg\n",
      "Name: Jared Leto\n",
      "Confidence: 99.24400329589844\n",
      "Detected faces for Jared-Leto-Chapter1.jpeg\n",
      "Name: Jared Leto\n",
      "Confidence: 92.9877700805664\n",
      "Detected faces for Jared-Leto-Chapter2.jpeg\n",
      "Name: Jared Leto\n",
      "Confidence: 96.52467346191406\n",
      "Detected faces for Jared-Leto-Chapter3.jpeg\n",
      "Name: Jared Leto\n",
      "Confidence: 91.76941680908203\n",
      "Detected faces for Jared-Leto-Dallas1.jpeg\n",
      "Detected faces for Jared-Leto-Dallas2.jpeg\n",
      "Detected faces for Jared-Leto-Dallas3.jpeg\n",
      "Detected faces for Jared-Leto-joker1.jpeg\n",
      "Detected faces for Jared-Leto-joker2.png\n",
      "Detected faces for Jared-Leto-joker3.jpeg\n",
      "Detected faces for christian-bale-american1.jpeg\n",
      "Name: Felix Kramer\n",
      "Confidence: 81.72571563720703\n",
      "Detected faces for christian-bale-american2.jpg\n",
      "Name: Christian Bale\n",
      "Confidence: 88.99152374267578\n",
      "Detected faces for christian-bale-american3.jpeg\n",
      "Name: Felix Kramer\n",
      "Confidence: 76.3939208984375\n",
      "Detected faces for christian-bale-machinist1.png\n",
      "Name: Christian Bale\n",
      "Confidence: 99.65769958496094\n",
      "Detected faces for christian-bale-machinist2.jpeg\n",
      "Name: Christian Bale\n",
      "Confidence: 99.5952377319336\n",
      "Detected faces for confidence_distribution.png\n",
      "Detected faces for confidence_makeuop.png\n",
      "Detected faces for confidence_param.png\n",
      "Detected faces for confidence_weightchanges.png\n",
      "Detected faces for confidence_weightchanges_40.png\n",
      "Detected faces for over40_param.png\n",
      "Detected faces for similarity_distribution.png\n",
      "Detected faces for similarity_param.png\n",
      "Detected faces for similiarity_distribution_90.png\n",
      "Detected faces for similiarity_weightchange.png\n"
     ]
    }
   ],
   "source": [
    "confidence_dict={}\n",
    "for image in images[:-1]:\n",
    "    try:\n",
    "        response = client.recognize_celebrities(Image={'S3Object': {\n",
    "        'Bucket': 'projectvuadachi',\n",
    "        'Name': image\n",
    "}}\n",
    ")\n",
    "        print('Detected faces for ' + image)    \n",
    "        for celebrity in response['CelebrityFaces']:\n",
    "            print ('Name: ' + celebrity['Name'])\n",
    "            print ('Confidence: ' + str(celebrity['MatchConfidence']))\n",
    "    except Exception:\n",
    "        pass"
   ]
  },
  {
   "cell_type": "markdown",
   "id": "d4d4c489",
   "metadata": {},
   "source": [
    "## Rekognition compare faces of the actors with the Python SDK"
   ]
  },
  {
   "cell_type": "markdown",
   "id": "b24b444e",
   "metadata": {},
   "source": [
    "### Jared Leto"
   ]
  },
  {
   "cell_type": "code",
   "execution_count": 359,
   "id": "7e6dec32",
   "metadata": {},
   "outputs": [
    {
     "data": {
      "text/plain": [
       "s3.Bucket.objectsCollection(s3.Bucket(name='jaredfacematch'), s3.ObjectSummary)"
      ]
     },
     "execution_count": 359,
     "metadata": {},
     "output_type": "execute_result"
    }
   ],
   "source": [
    "s3_resource_jared = boto3.resource('s3')\n",
    "my_bucket_jared = s3_resource_jared.Bucket('jaredfacematch')\n",
    "summaries_jared = my_bucket_jared.objects.all()\n",
    "summaries_jared"
   ]
  },
  {
   "cell_type": "code",
   "execution_count": 360,
   "id": "d325a557",
   "metadata": {},
   "outputs": [
    {
     "data": {
      "text/plain": [
       "['Jared-Leto-Base.jpeg',\n",
       " 'Jared-Leto-Chapter1.jpeg',\n",
       " 'Jared-Leto-Chapter2.jpeg',\n",
       " 'Jared-Leto-Chapter3.jpeg',\n",
       " 'Jared-Leto-Dallas1.jpeg',\n",
       " 'Jared-Leto-Dallas2.jpeg',\n",
       " 'Jared-Leto-Dallas3.jpeg',\n",
       " 'Jared-Leto-joker1.jpeg',\n",
       " 'Jared-Leto-joker2.png',\n",
       " 'Jared-Leto-joker3.jpeg']"
      ]
     },
     "execution_count": 360,
     "metadata": {},
     "output_type": "execute_result"
    }
   ],
   "source": [
    "images_jared = []\n",
    "for image in summaries_jared:\n",
    "    images_jared.append(image.key)\n",
    "images_jared"
   ]
  },
  {
   "cell_type": "code",
   "execution_count": 361,
   "id": "b7de57e1",
   "metadata": {},
   "outputs": [],
   "source": [
    "facematch_dict_jared={}\n",
    "for image in images_jared[:-1]:\n",
    "    try:\n",
    "        comparison = client.compare_faces(SourceImage={'S3Object':{'Bucket':\"jaredfacematch\",'Name':\"Jared-Leto-Base.jpeg\"}}, TargetImage={'S3Object':{'Bucket':\"jaredfacematch\",'Name':image}})\n",
    "        face_match = comparison['FaceMatches']\n",
    "        image_score = face_match[0]['Similarity']\n",
    "        facematch_dict_jared[image] = image_score\n",
    "    except Exception:\n",
    "        pass"
   ]
  },
  {
   "cell_type": "markdown",
   "id": "ce34d10e",
   "metadata": {},
   "source": [
    "The function above compare the base photo of Jared Leto with all the photos from his 3 movies in the s3 bucket jaredfacematch. The function return the photo name and a similarity score. If the function cannot match the faces, it will return nothing."
   ]
  },
  {
   "cell_type": "code",
   "execution_count": 362,
   "id": "67193057",
   "metadata": {},
   "outputs": [
    {
     "data": {
      "text/plain": [
       "{'Jared-Leto-Base.jpeg': 100.0, 'Jared-Leto-Chapter3.jpeg': 90.49385070800781}"
      ]
     },
     "execution_count": 362,
     "metadata": {},
     "output_type": "execute_result"
    }
   ],
   "source": [
    "facematch_dict_jared"
   ]
  },
  {
   "cell_type": "markdown",
   "id": "78d8363d",
   "metadata": {},
   "source": [
    "### Christian Bale"
   ]
  },
  {
   "cell_type": "code",
   "execution_count": 363,
   "id": "7e77d354",
   "metadata": {},
   "outputs": [
    {
     "data": {
      "text/plain": [
       "s3.Bucket.objectsCollection(s3.Bucket(name='christianfacematch'), s3.ObjectSummary)"
      ]
     },
     "execution_count": 363,
     "metadata": {},
     "output_type": "execute_result"
    }
   ],
   "source": [
    "s3_resource_christian = boto3.resource('s3')\n",
    "my_bucket_christian = s3_resource_christian.Bucket('christianfacematch')\n",
    "summaries_christian = my_bucket_christian.objects.all()\n",
    "summaries_christian"
   ]
  },
  {
   "cell_type": "code",
   "execution_count": 364,
   "id": "39ddf348",
   "metadata": {},
   "outputs": [
    {
     "data": {
      "text/plain": [
       "['Christian-Bale-Base.jpeg',\n",
       " 'Christian-Bale-Vice1.jpg',\n",
       " 'Christian-Bale-Vice2.jpeg',\n",
       " 'Christian-Bale-Vice3.jpeg',\n",
       " 'Christian-Bale-machinist3.jpeg',\n",
       " 'christian-bale-american1.jpeg',\n",
       " 'christian-bale-american2.jpg',\n",
       " 'christian-bale-american3.jpeg',\n",
       " 'christian-bale-machinist1.png',\n",
       " 'christian-bale-machinist2.jpeg']"
      ]
     },
     "execution_count": 364,
     "metadata": {},
     "output_type": "execute_result"
    }
   ],
   "source": [
    "images_christian = []\n",
    "for image in summaries_christian:\n",
    "    images_christian.append(image.key)\n",
    "images_christian"
   ]
  },
  {
   "cell_type": "code",
   "execution_count": 365,
   "id": "71a145e1",
   "metadata": {},
   "outputs": [],
   "source": [
    "facematch_dict_christian={}\n",
    "for image in images_christian[:-1]:\n",
    "    try:\n",
    "        comparison = client.compare_faces(SourceImage={'S3Object':{'Bucket':\"christianfacematch\",'Name':\"Christian-Bale-Base.jpeg\"}}, TargetImage={'S3Object':{'Bucket':\"christianfacematch\",'Name':image}})\n",
    "        face_match = comparison['FaceMatches']\n",
    "        image_score = face_match[0]['Similarity']\n",
    "        facematch_dict_christian[image] = image_score\n",
    "    except Exception:\n",
    "        pass"
   ]
  },
  {
   "cell_type": "markdown",
   "id": "366bd30a",
   "metadata": {},
   "source": [
    "The function above compare the base photo of Christian Bale with all the photos from his 3 movies in the s3 bucket christianfacematch. The function return the photo name and a similarity score. If the function cannot match the faces, it will return nothing."
   ]
  },
  {
   "cell_type": "code",
   "execution_count": 366,
   "id": "a974d29b",
   "metadata": {},
   "outputs": [
    {
     "data": {
      "text/plain": [
       "{'Christian-Bale-Base.jpeg': 100.0,\n",
       " 'Christian-Bale-machinist3.jpeg': 99.81509399414062,\n",
       " 'christian-bale-american1.jpeg': 99.80919647216797,\n",
       " 'christian-bale-american2.jpg': 99.98043823242188,\n",
       " 'christian-bale-american3.jpeg': 99.96953582763672,\n",
       " 'christian-bale-machinist1.png': 97.41047668457031}"
      ]
     },
     "execution_count": 366,
     "metadata": {},
     "output_type": "execute_result"
    }
   ],
   "source": [
    "facematch_dict_christian"
   ]
  },
  {
   "cell_type": "markdown",
   "id": "19a24f99",
   "metadata": {},
   "source": [
    "### Charlize Theron"
   ]
  },
  {
   "cell_type": "code",
   "execution_count": 367,
   "id": "70fcb507",
   "metadata": {},
   "outputs": [
    {
     "data": {
      "text/plain": [
       "s3.Bucket.objectsCollection(s3.Bucket(name='charlizefacematch'), s3.ObjectSummary)"
      ]
     },
     "execution_count": 367,
     "metadata": {},
     "output_type": "execute_result"
    }
   ],
   "source": [
    "s3_resource_charlize = boto3.resource('s3')\n",
    "my_bucket_charlize = s3_resource_charlize.Bucket('charlizefacematch')\n",
    "summaries_charlize = my_bucket_charlize.objects.all()\n",
    "summaries_charlize"
   ]
  },
  {
   "cell_type": "code",
   "execution_count": 368,
   "id": "34bf9b7a",
   "metadata": {},
   "outputs": [
    {
     "data": {
      "text/plain": [
       "['Charlize-Theron-Base.jpeg',\n",
       " 'Charlize-Theron-Madmax1.jpeg',\n",
       " 'Charlize-Theron-Madmax2.jpeg',\n",
       " 'Charlize-Theron-Madmax3.jpeg',\n",
       " 'Charlize-Theron-Monster1.jpeg',\n",
       " 'Charlize-Theron-Monster2.jpeg',\n",
       " 'Charlize-Theron-Monster3.jpeg',\n",
       " 'Charlize-Theron-Tully1.jpg',\n",
       " 'Charlize-Theron-Tully2.jpeg',\n",
       " 'Charlize-Theron-Tully3.jpeg']"
      ]
     },
     "execution_count": 368,
     "metadata": {},
     "output_type": "execute_result"
    }
   ],
   "source": [
    "images_charlize = []\n",
    "for image in summaries_charlize:\n",
    "    images_charlize.append(image.key)\n",
    "images_charlize"
   ]
  },
  {
   "cell_type": "code",
   "execution_count": 369,
   "id": "b674efe1",
   "metadata": {},
   "outputs": [],
   "source": [
    "facematch_dict_charlize={}\n",
    "for image in images_charlize[:-1]:\n",
    "    try:\n",
    "        comparison = client.compare_faces(SourceImage={'S3Object':{'Bucket':\"charlizefacematch\",'Name':\"Charlize-Theron-Base.jpeg\"}}, TargetImage={'S3Object':{'Bucket':\"charlizefacematch\",'Name':image}})\n",
    "        face_match = comparison['FaceMatches']\n",
    "        image_score = face_match[0]['Similarity']\n",
    "        facematch_dict_charlize[image] = image_score\n",
    "    except Exception:\n",
    "        pass"
   ]
  },
  {
   "cell_type": "markdown",
   "id": "558a90cd",
   "metadata": {},
   "source": [
    "The function above compare the base photo of Charlize Theron with all the photos from her 3 movies in the s3 bucket charlizefacematch. The function return the photo name and a similarity score. If the function cannot match the faces, it will return nothing."
   ]
  },
  {
   "cell_type": "code",
   "execution_count": 370,
   "id": "4973950d",
   "metadata": {},
   "outputs": [
    {
     "data": {
      "text/plain": [
       "{'Charlize-Theron-Base.jpeg': 100.0,\n",
       " 'Charlize-Theron-Madmax2.jpeg': 97.27245330810547,\n",
       " 'Charlize-Theron-Madmax3.jpeg': 94.86990356445312,\n",
       " 'Charlize-Theron-Tully1.jpg': 99.98347473144531,\n",
       " 'Charlize-Theron-Tully2.jpeg': 99.93269348144531}"
      ]
     },
     "execution_count": 370,
     "metadata": {},
     "output_type": "execute_result"
    }
   ],
   "source": [
    "facematch_dict_charlize"
   ]
  },
  {
   "cell_type": "code",
   "execution_count": null,
   "id": "7f055f59",
   "metadata": {},
   "outputs": [],
   "source": []
  }
 ],
 "metadata": {
  "kernelspec": {
   "display_name": "conda_python3",
   "language": "python",
   "name": "conda_python3"
  },
  "language_info": {
   "codemirror_mode": {
    "name": "ipython",
    "version": 3
   },
   "file_extension": ".py",
   "mimetype": "text/x-python",
   "name": "python",
   "nbconvert_exporter": "python",
   "pygments_lexer": "ipython3",
   "version": "3.6.13"
  }
 },
 "nbformat": 4,
 "nbformat_minor": 5
}
