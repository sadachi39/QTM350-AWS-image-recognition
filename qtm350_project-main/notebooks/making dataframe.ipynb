{
 "cells": [
  {
   "cell_type": "code",
   "execution_count": 516,
   "id": "68cc42a2",
   "metadata": {},
   "outputs": [],
   "source": [
    "import boto3\n",
    "import numpy as np\n",
    "import pandas as pd"
   ]
  },
  {
   "cell_type": "markdown",
   "id": "a86dbf09",
   "metadata": {},
   "source": [
    "## Christian Bale dataframe"
   ]
  },
  {
   "cell_type": "markdown",
   "id": "f53bc744",
   "metadata": {},
   "source": [
    "Let's begin by creating the dataframe for the actor Christian Bale. We are using the photos from the Bucket which contain all of Christian Bale's photos."
   ]
  },
  {
   "cell_type": "code",
   "execution_count": 517,
   "id": "8b380518",
   "metadata": {},
   "outputs": [],
   "source": [
    "client = boto3.client('rekognition')\n",
    "def extract_similarity_christian(photo):\n",
    "    try:\n",
    "        comparison = client.compare_faces(\n",
    "            SourceImage= {'S3Object':{'Bucket':'christianfacematch', 'Name':'Christian-Bale-Base.jpeg'}},\n",
    "            TargetImage = {'S3Object':{'Bucket':'christianfacematch','Name':photo}})\n",
    "        similarity = comparison['FaceMatches'][0]['Similarity']\n",
    "    except Exception:\n",
    "        similarity = 0\n",
    "    return similarity"
   ]
  },
  {
   "cell_type": "markdown",
   "id": "5f8b67b6",
   "metadata": {},
   "source": [
    "The function above returns the similarity score of a given photo using Rekognition. It will compare the individual photo with a base photo to generate a similarity score. For any image that is not recognizable, the similarity score would be 0."
   ]
  },
  {
   "cell_type": "code",
   "execution_count": 518,
   "id": "36c0a3c5",
   "metadata": {},
   "outputs": [],
   "source": [
    "def extract_confidence_christian(photo):\n",
    "    try:\n",
    "        response = client.recognize_celebrities(Image={'S3Object': {\n",
    "        'Bucket': 'christianfacematch',\n",
    "        'Name': photo\n",
    "}})\n",
    "        confidence = response['CelebrityFaces'][0]['MatchConfidence']\n",
    "    except Exception:\n",
    "        confidence = 0\n",
    "    return confidence"
   ]
  },
  {
   "cell_type": "markdown",
   "id": "18451f89",
   "metadata": {},
   "source": [
    "The function above returns the confidence score of the celebrity rekognition function. If the celebrity face is detectable, it will return a score, otherwise the confidence score would be 0."
   ]
  },
  {
   "cell_type": "code",
   "execution_count": 519,
   "id": "aec1b4c5",
   "metadata": {},
   "outputs": [],
   "source": [
    "def extract_name_christian(photo):\n",
    "    try:\n",
    "        response = client.recognize_celebrities(Image={'S3Object': {\n",
    "        'Bucket': 'christianfacematch',\n",
    "        'Name': photo\n",
    "}})\n",
    "        confidence = response['CelebrityFaces'][0]['Name']\n",
    "    except Exception:\n",
    "        confidence = \"Unrecognizable\"\n",
    "    return confidence"
   ]
  },
  {
   "cell_type": "markdown",
   "id": "44d9a212",
   "metadata": {},
   "source": [
    "The function above returns the name of the celebrity using the celebrity rekognition function. If the face is unrecognizable, then it will return the string \"Unrecognizable\"."
   ]
  },
  {
   "cell_type": "markdown",
   "id": "18da5f53",
   "metadata": {},
   "source": [
    "Then, we make a list of all the Christian Bale's photos:"
   ]
  },
  {
   "cell_type": "code",
   "execution_count": 520,
   "id": "fa8a8b6e",
   "metadata": {},
   "outputs": [
    {
     "data": {
      "text/plain": [
       "['Christian-Bale-Base.jpeg',\n",
       " 'Christian-Bale-Vice1.jpg',\n",
       " 'Christian-Bale-Vice2.jpeg',\n",
       " 'Christian-Bale-Vice3.jpeg',\n",
       " 'Christian-Bale-machinist3.jpeg',\n",
       " 'christian-bale-american1.jpeg',\n",
       " 'christian-bale-american2.jpg',\n",
       " 'christian-bale-american3.jpeg',\n",
       " 'christian-bale-machinist1.png',\n",
       " 'christian-bale-machinist2.jpeg']"
      ]
     },
     "execution_count": 520,
     "metadata": {},
     "output_type": "execute_result"
    }
   ],
   "source": [
    "s3_resource = boto3.resource('s3')\n",
    "my_bucket = s3_resource.Bucket('christianfacematch')\n",
    "summaries = my_bucket.objects.all()\n",
    "image_christian = [image.key for image  in summaries]\n",
    "image_christian"
   ]
  },
  {
   "cell_type": "markdown",
   "id": "2b82bb1f",
   "metadata": {},
   "source": [
    "We create the dataframe for Christian Bale"
   ]
  },
  {
   "cell_type": "code",
   "execution_count": 521,
   "id": "5a010759",
   "metadata": {},
   "outputs": [],
   "source": [
    "df_christian = pd.DataFrame({'Name':image_christian})"
   ]
  },
  {
   "cell_type": "markdown",
   "id": "5612e9b2",
   "metadata": {},
   "source": [
    "After that, we add the similarity data column, the name of the celebrity column, and the celebrity confidence score to Christian Bale's dataframe."
   ]
  },
  {
   "cell_type": "code",
   "execution_count": null,
   "id": "22cdd4ff",
   "metadata": {},
   "outputs": [],
   "source": [
    "df_christian['Similarity'] = [extract_similarity_christian(photo) for photo in df_christian['Name']]"
   ]
  },
  {
   "cell_type": "code",
   "execution_count": null,
   "id": "ec458b47",
   "metadata": {},
   "outputs": [],
   "source": [
    "df_christian['Celebrity_Recognized'] = [extract_name_christian(photo) for photo in df_christian['Name']]"
   ]
  },
  {
   "cell_type": "code",
   "execution_count": null,
   "id": "458d70ec",
   "metadata": {},
   "outputs": [],
   "source": [
    "df_christian['Celebrity_Confidence'] = [extract_confidence_christian(photo) for photo in df_christian['Name']]"
   ]
  },
  {
   "cell_type": "markdown",
   "id": "4d59d161",
   "metadata": {},
   "source": [
    "For the data column of whether the actor is wearing makeup or not, we will input the data manually"
   ]
  },
  {
   "cell_type": "code",
   "execution_count": null,
   "id": "1a53b489",
   "metadata": {},
   "outputs": [],
   "source": [
    "Makeup_Christian = ['No', 'No', 'No', 'No', 'No', 'No','No','No', 'No', 'No']"
   ]
  },
  {
   "cell_type": "markdown",
   "id": "9ce5273f",
   "metadata": {},
   "source": [
    "We also input the data manually for the weight changes of the actor. This will be in absolute value."
   ]
  },
  {
   "cell_type": "code",
   "execution_count": null,
   "id": "15642108",
   "metadata": {},
   "outputs": [],
   "source": [
    "Weight_Christian = [0, 40, 40, 40, 65, 43, 43, 43, 65, 65]"
   ]
  },
  {
   "cell_type": "markdown",
   "id": "57e2bdf1",
   "metadata": {},
   "source": [
    "We add the data into new data columns."
   ]
  },
  {
   "cell_type": "code",
   "execution_count": null,
   "id": "03052f5a",
   "metadata": {},
   "outputs": [],
   "source": [
    "df_christian['Makeup'] = Makeup_Christian"
   ]
  },
  {
   "cell_type": "code",
   "execution_count": null,
   "id": "05202ec8",
   "metadata": {},
   "outputs": [],
   "source": [
    "df_christian['Weight_Change_in_lbs'] = Weight_Christian"
   ]
  },
  {
   "cell_type": "code",
   "execution_count": null,
   "id": "6d80df1d",
   "metadata": {},
   "outputs": [],
   "source": [
    "df_christian"
   ]
  },
  {
   "cell_type": "markdown",
   "id": "6118c121",
   "metadata": {},
   "source": [
    "## Jared Leto dataframe"
   ]
  },
  {
   "cell_type": "markdown",
   "id": "28c721d4",
   "metadata": {},
   "source": [
    "We are creating the dataframe for Jared Leto using the same methods. We are using the photos from the Bucket which contain all of Jared Leto's photos."
   ]
  },
  {
   "cell_type": "code",
   "execution_count": 16,
   "id": "68bcd408",
   "metadata": {},
   "outputs": [
    {
     "data": {
      "text/plain": [
       "['Jared-Leto-Base.jpeg',\n",
       " 'Jared-Leto-Chapter1.jpeg',\n",
       " 'Jared-Leto-Chapter2.jpeg',\n",
       " 'Jared-Leto-Chapter3.jpeg',\n",
       " 'Jared-Leto-Dallas1.jpeg',\n",
       " 'Jared-Leto-Dallas2.jpeg',\n",
       " 'Jared-Leto-Dallas3.jpeg',\n",
       " 'Jared-Leto-joker1.jpeg',\n",
       " 'Jared-Leto-joker2.png',\n",
       " 'Jared-Leto-joker3.jpeg']"
      ]
     },
     "execution_count": 16,
     "metadata": {},
     "output_type": "execute_result"
    }
   ],
   "source": [
    "s3_resource = boto3.resource('s3')\n",
    "my_bucket = s3_resource.Bucket('jaredfacematch')\n",
    "summaries = my_bucket.objects.all()\n",
    "image_jared = [image.key for image  in summaries]\n",
    "image_jared"
   ]
  },
  {
   "cell_type": "code",
   "execution_count": 17,
   "id": "56dd7798",
   "metadata": {},
   "outputs": [],
   "source": [
    "def extract_similarity_jared(photo):\n",
    "    try:\n",
    "        comparison = client.compare_faces(\n",
    "            SourceImage= {'S3Object':{'Bucket':'jaredfacematch', 'Name':'Jared-Leto-Base.jpeg'}},\n",
    "            TargetImage = {'S3Object':{'Bucket':'jaredfacematch','Name':photo}})\n",
    "        similarity = comparison['FaceMatches'][0]['Similarity']\n",
    "    except Exception:\n",
    "        similarity = 0\n",
    "    return similarity"
   ]
  },
  {
   "cell_type": "code",
   "execution_count": 18,
   "id": "5702f1ad",
   "metadata": {},
   "outputs": [],
   "source": [
    "def extract_confidence_jared(photo):\n",
    "    try:\n",
    "        response = client.recognize_celebrities(Image={'S3Object': {\n",
    "        'Bucket': 'jaredfacematch',\n",
    "        'Name': photo\n",
    "}})\n",
    "        confidence = response['CelebrityFaces'][0]['MatchConfidence']\n",
    "    except Exception:\n",
    "        confidence = 0\n",
    "    return confidence"
   ]
  },
  {
   "cell_type": "code",
   "execution_count": 19,
   "id": "be590f5f",
   "metadata": {},
   "outputs": [],
   "source": [
    "def extract_name_jared(photo):\n",
    "    try:\n",
    "        response = client.recognize_celebrities(Image={'S3Object': {\n",
    "        'Bucket': 'jaredfacematch',\n",
    "        'Name': photo\n",
    "}})\n",
    "        confidence = response['CelebrityFaces'][0]['Name']\n",
    "    except Exception:\n",
    "        confidence = \"Unrecognizable\"\n",
    "    return confidence"
   ]
  },
  {
   "cell_type": "code",
   "execution_count": 20,
   "id": "94fbccca",
   "metadata": {},
   "outputs": [],
   "source": [
    "df_jared = pd.DataFrame({'Name':image_jared})"
   ]
  },
  {
   "cell_type": "code",
   "execution_count": 21,
   "id": "30b89fc7",
   "metadata": {},
   "outputs": [],
   "source": [
    "df_jared['Similarity'] = [extract_similarity_jared(photo) for photo in df_jared['Name']]"
   ]
  },
  {
   "cell_type": "code",
   "execution_count": 22,
   "id": "0dc81744",
   "metadata": {},
   "outputs": [],
   "source": [
    "df_jared['Celebrity_Recognized'] = [extract_name_jared(photo) for photo in df_jared['Name']]"
   ]
  },
  {
   "cell_type": "code",
   "execution_count": 23,
   "id": "c41d795b",
   "metadata": {},
   "outputs": [],
   "source": [
    "df_jared['Celebrity_Confidence'] = [extract_confidence_jared(photo) for photo in df_jared['Name']]"
   ]
  },
  {
   "cell_type": "code",
   "execution_count": 24,
   "id": "07e7e9ad",
   "metadata": {},
   "outputs": [],
   "source": [
    "Makeup_Jared = ['No', 'No', 'No', 'No', 'Yes', 'Yes','Yes','Yes', 'Yes', 'Yes']"
   ]
  },
  {
   "cell_type": "code",
   "execution_count": 25,
   "id": "9cd6a73e",
   "metadata": {},
   "outputs": [],
   "source": [
    "Weight_Jared = [0, 70, 70, 70, 30, 30, 30, 0, 0, 0]"
   ]
  },
  {
   "cell_type": "code",
   "execution_count": 26,
   "id": "9f0b8279",
   "metadata": {},
   "outputs": [],
   "source": [
    "df_jared['Makeup'] = Makeup_Jared"
   ]
  },
  {
   "cell_type": "code",
   "execution_count": 27,
   "id": "b8c1d547",
   "metadata": {},
   "outputs": [],
   "source": [
    "df_jared['Weight_Change_in_lbs'] = Weight_Jared"
   ]
  },
  {
   "cell_type": "code",
   "execution_count": 28,
   "id": "a8c1ab76",
   "metadata": {},
   "outputs": [
    {
     "data": {
      "text/html": [
       "<div>\n",
       "<style scoped>\n",
       "    .dataframe tbody tr th:only-of-type {\n",
       "        vertical-align: middle;\n",
       "    }\n",
       "\n",
       "    .dataframe tbody tr th {\n",
       "        vertical-align: top;\n",
       "    }\n",
       "\n",
       "    .dataframe thead th {\n",
       "        text-align: right;\n",
       "    }\n",
       "</style>\n",
       "<table border=\"1\" class=\"dataframe\">\n",
       "  <thead>\n",
       "    <tr style=\"text-align: right;\">\n",
       "      <th></th>\n",
       "      <th>Name</th>\n",
       "      <th>Similarity</th>\n",
       "      <th>Celebrity_Recognized</th>\n",
       "      <th>Celebrity_Confidence</th>\n",
       "      <th>Makeup</th>\n",
       "      <th>Weight_Change_in_lbs</th>\n",
       "    </tr>\n",
       "  </thead>\n",
       "  <tbody>\n",
       "    <tr>\n",
       "      <th>0</th>\n",
       "      <td>Jared-Leto-Base.jpeg</td>\n",
       "      <td>100.000000</td>\n",
       "      <td>Jared Leto</td>\n",
       "      <td>99.244003</td>\n",
       "      <td>No</td>\n",
       "      <td>0</td>\n",
       "    </tr>\n",
       "    <tr>\n",
       "      <th>1</th>\n",
       "      <td>Jared-Leto-Chapter1.jpeg</td>\n",
       "      <td>0.000000</td>\n",
       "      <td>Jared Leto</td>\n",
       "      <td>92.987770</td>\n",
       "      <td>No</td>\n",
       "      <td>70</td>\n",
       "    </tr>\n",
       "    <tr>\n",
       "      <th>2</th>\n",
       "      <td>Jared-Leto-Chapter2.jpeg</td>\n",
       "      <td>0.000000</td>\n",
       "      <td>Jared Leto</td>\n",
       "      <td>96.524673</td>\n",
       "      <td>No</td>\n",
       "      <td>70</td>\n",
       "    </tr>\n",
       "    <tr>\n",
       "      <th>3</th>\n",
       "      <td>Jared-Leto-Chapter3.jpeg</td>\n",
       "      <td>90.493851</td>\n",
       "      <td>Jared Leto</td>\n",
       "      <td>91.769417</td>\n",
       "      <td>No</td>\n",
       "      <td>70</td>\n",
       "    </tr>\n",
       "    <tr>\n",
       "      <th>4</th>\n",
       "      <td>Jared-Leto-Dallas1.jpeg</td>\n",
       "      <td>0.000000</td>\n",
       "      <td>Unrecognizable</td>\n",
       "      <td>0.000000</td>\n",
       "      <td>Yes</td>\n",
       "      <td>30</td>\n",
       "    </tr>\n",
       "    <tr>\n",
       "      <th>5</th>\n",
       "      <td>Jared-Leto-Dallas2.jpeg</td>\n",
       "      <td>0.000000</td>\n",
       "      <td>Unrecognizable</td>\n",
       "      <td>0.000000</td>\n",
       "      <td>Yes</td>\n",
       "      <td>30</td>\n",
       "    </tr>\n",
       "    <tr>\n",
       "      <th>6</th>\n",
       "      <td>Jared-Leto-Dallas3.jpeg</td>\n",
       "      <td>0.000000</td>\n",
       "      <td>Unrecognizable</td>\n",
       "      <td>0.000000</td>\n",
       "      <td>Yes</td>\n",
       "      <td>30</td>\n",
       "    </tr>\n",
       "    <tr>\n",
       "      <th>7</th>\n",
       "      <td>Jared-Leto-joker1.jpeg</td>\n",
       "      <td>0.000000</td>\n",
       "      <td>Unrecognizable</td>\n",
       "      <td>0.000000</td>\n",
       "      <td>Yes</td>\n",
       "      <td>0</td>\n",
       "    </tr>\n",
       "    <tr>\n",
       "      <th>8</th>\n",
       "      <td>Jared-Leto-joker2.png</td>\n",
       "      <td>0.000000</td>\n",
       "      <td>Unrecognizable</td>\n",
       "      <td>0.000000</td>\n",
       "      <td>Yes</td>\n",
       "      <td>0</td>\n",
       "    </tr>\n",
       "    <tr>\n",
       "      <th>9</th>\n",
       "      <td>Jared-Leto-joker3.jpeg</td>\n",
       "      <td>0.000000</td>\n",
       "      <td>Unrecognizable</td>\n",
       "      <td>0.000000</td>\n",
       "      <td>Yes</td>\n",
       "      <td>0</td>\n",
       "    </tr>\n",
       "  </tbody>\n",
       "</table>\n",
       "</div>"
      ],
      "text/plain": [
       "                       Name  Similarity Celebrity_Recognized  \\\n",
       "0      Jared-Leto-Base.jpeg  100.000000           Jared Leto   \n",
       "1  Jared-Leto-Chapter1.jpeg    0.000000           Jared Leto   \n",
       "2  Jared-Leto-Chapter2.jpeg    0.000000           Jared Leto   \n",
       "3  Jared-Leto-Chapter3.jpeg   90.493851           Jared Leto   \n",
       "4   Jared-Leto-Dallas1.jpeg    0.000000       Unrecognizable   \n",
       "5   Jared-Leto-Dallas2.jpeg    0.000000       Unrecognizable   \n",
       "6   Jared-Leto-Dallas3.jpeg    0.000000       Unrecognizable   \n",
       "7    Jared-Leto-joker1.jpeg    0.000000       Unrecognizable   \n",
       "8     Jared-Leto-joker2.png    0.000000       Unrecognizable   \n",
       "9    Jared-Leto-joker3.jpeg    0.000000       Unrecognizable   \n",
       "\n",
       "   Celebrity_Confidence Makeup  Weight_Change_in_lbs  \n",
       "0             99.244003     No                     0  \n",
       "1             92.987770     No                    70  \n",
       "2             96.524673     No                    70  \n",
       "3             91.769417     No                    70  \n",
       "4              0.000000    Yes                    30  \n",
       "5              0.000000    Yes                    30  \n",
       "6              0.000000    Yes                    30  \n",
       "7              0.000000    Yes                     0  \n",
       "8              0.000000    Yes                     0  \n",
       "9              0.000000    Yes                     0  "
      ]
     },
     "execution_count": 28,
     "metadata": {},
     "output_type": "execute_result"
    }
   ],
   "source": [
    "df_jared"
   ]
  },
  {
   "cell_type": "markdown",
   "id": "2d44372c",
   "metadata": {},
   "source": [
    "## Charlize Theron dataframe"
   ]
  },
  {
   "cell_type": "markdown",
   "id": "7256defa",
   "metadata": {},
   "source": [
    "We are creating the dataframe for Charlize Theron using the same methods. We are using the photos from the Bucket which contain all of Charlize Theron's photos."
   ]
  },
  {
   "cell_type": "code",
   "execution_count": 29,
   "id": "24ba0b75",
   "metadata": {},
   "outputs": [
    {
     "data": {
      "text/plain": [
       "['Charlize-Theron-Base.jpeg',\n",
       " 'Charlize-Theron-Madmax1.jpeg',\n",
       " 'Charlize-Theron-Madmax2.jpeg',\n",
       " 'Charlize-Theron-Madmax3.jpeg',\n",
       " 'Charlize-Theron-Monster1.jpeg',\n",
       " 'Charlize-Theron-Monster2.jpeg',\n",
       " 'Charlize-Theron-Monster3.jpeg',\n",
       " 'Charlize-Theron-Tully1.jpg',\n",
       " 'Charlize-Theron-Tully2.jpeg',\n",
       " 'Charlize-Theron-Tully3.jpeg']"
      ]
     },
     "execution_count": 29,
     "metadata": {},
     "output_type": "execute_result"
    }
   ],
   "source": [
    "s3_resource = boto3.resource('s3')\n",
    "my_bucket = s3_resource.Bucket('charlizefacematch')\n",
    "summaries = my_bucket.objects.all()\n",
    "image_charlize = [image.key for image  in summaries]\n",
    "image_charlize"
   ]
  },
  {
   "cell_type": "code",
   "execution_count": 30,
   "id": "03acd0ff",
   "metadata": {},
   "outputs": [],
   "source": [
    "def extract_similarity_charlize(photo):\n",
    "    try:\n",
    "        comparison = client.compare_faces(\n",
    "            SourceImage= {'S3Object':{'Bucket':'charlizefacematch', 'Name':'Charlize-Theron-Base.jpeg'}},\n",
    "            TargetImage = {'S3Object':{'Bucket':'charlizefacematch','Name':photo}})\n",
    "        similarity = comparison['FaceMatches'][0]['Similarity']\n",
    "    except Exception:\n",
    "        similarity = 0\n",
    "    return similarity"
   ]
  },
  {
   "cell_type": "code",
   "execution_count": 31,
   "id": "b4a6bb50",
   "metadata": {},
   "outputs": [],
   "source": [
    "def extract_confidence_charlize(photo):\n",
    "    try:\n",
    "        response = client.recognize_celebrities(Image={'S3Object': {\n",
    "        'Bucket': 'charlizefacematch',\n",
    "        'Name': photo\n",
    "}})\n",
    "        confidence = response['CelebrityFaces'][0]['MatchConfidence']\n",
    "    except Exception:\n",
    "        confidence = 0\n",
    "    return confidence"
   ]
  },
  {
   "cell_type": "code",
   "execution_count": 32,
   "id": "fdd2023e",
   "metadata": {},
   "outputs": [],
   "source": [
    "def extract_name_charlize(photo):\n",
    "    try:\n",
    "        response = client.recognize_celebrities(Image={'S3Object': {\n",
    "        'Bucket': 'charlizefacematch',\n",
    "        'Name': photo\n",
    "}})\n",
    "        confidence = response['CelebrityFaces'][0]['Name']\n",
    "    except Exception:\n",
    "        confidence = \"Unrecognizable\"\n",
    "    return confidence"
   ]
  },
  {
   "cell_type": "code",
   "execution_count": 33,
   "id": "cc835a86",
   "metadata": {},
   "outputs": [],
   "source": [
    "df_charlize = pd.DataFrame({'Name':image_charlize})"
   ]
  },
  {
   "cell_type": "code",
   "execution_count": 34,
   "id": "56199cf7",
   "metadata": {},
   "outputs": [],
   "source": [
    "df_charlize['Similarity'] = [extract_similarity_charlize(photo) for photo in df_charlize['Name']]"
   ]
  },
  {
   "cell_type": "code",
   "execution_count": 35,
   "id": "6a7c99e9",
   "metadata": {},
   "outputs": [],
   "source": [
    "df_charlize['Celebrity_Recognized'] = [extract_name_charlize(photo) for photo in df_charlize['Name']]"
   ]
  },
  {
   "cell_type": "code",
   "execution_count": 36,
   "id": "905dff93",
   "metadata": {},
   "outputs": [],
   "source": [
    "df_charlize['Celebrity_Confidence'] = [extract_confidence_charlize(photo) for photo in df_charlize['Name']]"
   ]
  },
  {
   "cell_type": "code",
   "execution_count": 37,
   "id": "2b0e600c",
   "metadata": {},
   "outputs": [],
   "source": [
    "Makeup_Charlize = ['No', 'Yes', 'Yes', 'Yes', 'Yes', 'Yes','Yes','No', 'No', 'No']"
   ]
  },
  {
   "cell_type": "code",
   "execution_count": 38,
   "id": "32c26262",
   "metadata": {},
   "outputs": [],
   "source": [
    "Weight_Charlize = [0, 20, 20, 20, 30, 30, 30, 50, 50, 50]"
   ]
  },
  {
   "cell_type": "code",
   "execution_count": 39,
   "id": "0d59a167",
   "metadata": {},
   "outputs": [],
   "source": [
    "df_charlize['Makeup'] = Makeup_Charlize"
   ]
  },
  {
   "cell_type": "code",
   "execution_count": 40,
   "id": "ab0e8295",
   "metadata": {},
   "outputs": [],
   "source": [
    "df_charlize['Weight_Change_in_lbs'] = Weight_Charlize"
   ]
  },
  {
   "cell_type": "code",
   "execution_count": 41,
   "id": "9e01604e",
   "metadata": {},
   "outputs": [
    {
     "data": {
      "text/html": [
       "<div>\n",
       "<style scoped>\n",
       "    .dataframe tbody tr th:only-of-type {\n",
       "        vertical-align: middle;\n",
       "    }\n",
       "\n",
       "    .dataframe tbody tr th {\n",
       "        vertical-align: top;\n",
       "    }\n",
       "\n",
       "    .dataframe thead th {\n",
       "        text-align: right;\n",
       "    }\n",
       "</style>\n",
       "<table border=\"1\" class=\"dataframe\">\n",
       "  <thead>\n",
       "    <tr style=\"text-align: right;\">\n",
       "      <th></th>\n",
       "      <th>Name</th>\n",
       "      <th>Similarity</th>\n",
       "      <th>Celebrity_Recognized</th>\n",
       "      <th>Celebrity_Confidence</th>\n",
       "      <th>Makeup</th>\n",
       "      <th>Weight_Change_in_lbs</th>\n",
       "    </tr>\n",
       "  </thead>\n",
       "  <tbody>\n",
       "    <tr>\n",
       "      <th>0</th>\n",
       "      <td>Charlize-Theron-Base.jpeg</td>\n",
       "      <td>100.000000</td>\n",
       "      <td>Charlize Theron</td>\n",
       "      <td>96.863136</td>\n",
       "      <td>No</td>\n",
       "      <td>0</td>\n",
       "    </tr>\n",
       "    <tr>\n",
       "      <th>1</th>\n",
       "      <td>Charlize-Theron-Madmax1.jpeg</td>\n",
       "      <td>0.000000</td>\n",
       "      <td>Unrecognizable</td>\n",
       "      <td>0.000000</td>\n",
       "      <td>Yes</td>\n",
       "      <td>20</td>\n",
       "    </tr>\n",
       "    <tr>\n",
       "      <th>2</th>\n",
       "      <td>Charlize-Theron-Madmax2.jpeg</td>\n",
       "      <td>97.272453</td>\n",
       "      <td>Unrecognizable</td>\n",
       "      <td>0.000000</td>\n",
       "      <td>Yes</td>\n",
       "      <td>20</td>\n",
       "    </tr>\n",
       "    <tr>\n",
       "      <th>3</th>\n",
       "      <td>Charlize-Theron-Madmax3.jpeg</td>\n",
       "      <td>94.869904</td>\n",
       "      <td>Unrecognizable</td>\n",
       "      <td>0.000000</td>\n",
       "      <td>Yes</td>\n",
       "      <td>20</td>\n",
       "    </tr>\n",
       "    <tr>\n",
       "      <th>4</th>\n",
       "      <td>Charlize-Theron-Monster1.jpeg</td>\n",
       "      <td>0.000000</td>\n",
       "      <td>Unrecognizable</td>\n",
       "      <td>0.000000</td>\n",
       "      <td>Yes</td>\n",
       "      <td>30</td>\n",
       "    </tr>\n",
       "    <tr>\n",
       "      <th>5</th>\n",
       "      <td>Charlize-Theron-Monster2.jpeg</td>\n",
       "      <td>0.000000</td>\n",
       "      <td>Unrecognizable</td>\n",
       "      <td>0.000000</td>\n",
       "      <td>Yes</td>\n",
       "      <td>30</td>\n",
       "    </tr>\n",
       "    <tr>\n",
       "      <th>6</th>\n",
       "      <td>Charlize-Theron-Monster3.jpeg</td>\n",
       "      <td>0.000000</td>\n",
       "      <td>Unrecognizable</td>\n",
       "      <td>0.000000</td>\n",
       "      <td>Yes</td>\n",
       "      <td>30</td>\n",
       "    </tr>\n",
       "    <tr>\n",
       "      <th>7</th>\n",
       "      <td>Charlize-Theron-Tully1.jpg</td>\n",
       "      <td>99.983475</td>\n",
       "      <td>Charlize Theron</td>\n",
       "      <td>82.433632</td>\n",
       "      <td>No</td>\n",
       "      <td>50</td>\n",
       "    </tr>\n",
       "    <tr>\n",
       "      <th>8</th>\n",
       "      <td>Charlize-Theron-Tully2.jpeg</td>\n",
       "      <td>99.932693</td>\n",
       "      <td>Unrecognizable</td>\n",
       "      <td>0.000000</td>\n",
       "      <td>No</td>\n",
       "      <td>50</td>\n",
       "    </tr>\n",
       "    <tr>\n",
       "      <th>9</th>\n",
       "      <td>Charlize-Theron-Tully3.jpeg</td>\n",
       "      <td>98.615128</td>\n",
       "      <td>Charlize Theron</td>\n",
       "      <td>97.655167</td>\n",
       "      <td>No</td>\n",
       "      <td>50</td>\n",
       "    </tr>\n",
       "  </tbody>\n",
       "</table>\n",
       "</div>"
      ],
      "text/plain": [
       "                            Name  Similarity Celebrity_Recognized  \\\n",
       "0      Charlize-Theron-Base.jpeg  100.000000      Charlize Theron   \n",
       "1   Charlize-Theron-Madmax1.jpeg    0.000000       Unrecognizable   \n",
       "2   Charlize-Theron-Madmax2.jpeg   97.272453       Unrecognizable   \n",
       "3   Charlize-Theron-Madmax3.jpeg   94.869904       Unrecognizable   \n",
       "4  Charlize-Theron-Monster1.jpeg    0.000000       Unrecognizable   \n",
       "5  Charlize-Theron-Monster2.jpeg    0.000000       Unrecognizable   \n",
       "6  Charlize-Theron-Monster3.jpeg    0.000000       Unrecognizable   \n",
       "7     Charlize-Theron-Tully1.jpg   99.983475      Charlize Theron   \n",
       "8    Charlize-Theron-Tully2.jpeg   99.932693       Unrecognizable   \n",
       "9    Charlize-Theron-Tully3.jpeg   98.615128      Charlize Theron   \n",
       "\n",
       "   Celebrity_Confidence Makeup  Weight_Change_in_lbs  \n",
       "0             96.863136     No                     0  \n",
       "1              0.000000    Yes                    20  \n",
       "2              0.000000    Yes                    20  \n",
       "3              0.000000    Yes                    20  \n",
       "4              0.000000    Yes                    30  \n",
       "5              0.000000    Yes                    30  \n",
       "6              0.000000    Yes                    30  \n",
       "7             82.433632     No                    50  \n",
       "8              0.000000     No                    50  \n",
       "9             97.655167     No                    50  "
      ]
     },
     "execution_count": 41,
     "metadata": {},
     "output_type": "execute_result"
    }
   ],
   "source": [
    "df_charlize"
   ]
  },
  {
   "cell_type": "markdown",
   "id": "cf38407f",
   "metadata": {},
   "source": [
    "## Merging the 3 dataframes"
   ]
  },
  {
   "cell_type": "markdown",
   "id": "8edab7d2",
   "metadata": {},
   "source": [
    "After we have 3 different dataframe for each actor, we merge the 3 dataframe together using the append function to create one big dataframe:"
   ]
  },
  {
   "cell_type": "code",
   "execution_count": 42,
   "id": "cb578f3a",
   "metadata": {},
   "outputs": [
    {
     "data": {
      "text/html": [
       "<div>\n",
       "<style scoped>\n",
       "    .dataframe tbody tr th:only-of-type {\n",
       "        vertical-align: middle;\n",
       "    }\n",
       "\n",
       "    .dataframe tbody tr th {\n",
       "        vertical-align: top;\n",
       "    }\n",
       "\n",
       "    .dataframe thead th {\n",
       "        text-align: right;\n",
       "    }\n",
       "</style>\n",
       "<table border=\"1\" class=\"dataframe\">\n",
       "  <thead>\n",
       "    <tr style=\"text-align: right;\">\n",
       "      <th></th>\n",
       "      <th>Name</th>\n",
       "      <th>Similarity</th>\n",
       "      <th>Celebrity_Recognized</th>\n",
       "      <th>Celebrity_Confidence</th>\n",
       "      <th>Makeup</th>\n",
       "      <th>Weight_Change_in_lbs</th>\n",
       "    </tr>\n",
       "  </thead>\n",
       "  <tbody>\n",
       "    <tr>\n",
       "      <th>0</th>\n",
       "      <td>Christian-Bale-Base.jpeg</td>\n",
       "      <td>100.000000</td>\n",
       "      <td>Christian Bale</td>\n",
       "      <td>99.544708</td>\n",
       "      <td>No</td>\n",
       "      <td>0</td>\n",
       "    </tr>\n",
       "    <tr>\n",
       "      <th>1</th>\n",
       "      <td>Christian-Bale-Vice1.jpg</td>\n",
       "      <td>0.000000</td>\n",
       "      <td>Unrecognizable</td>\n",
       "      <td>0.000000</td>\n",
       "      <td>No</td>\n",
       "      <td>40</td>\n",
       "    </tr>\n",
       "    <tr>\n",
       "      <th>2</th>\n",
       "      <td>Christian-Bale-Vice2.jpeg</td>\n",
       "      <td>0.000000</td>\n",
       "      <td>Unrecognizable</td>\n",
       "      <td>0.000000</td>\n",
       "      <td>No</td>\n",
       "      <td>40</td>\n",
       "    </tr>\n",
       "    <tr>\n",
       "      <th>3</th>\n",
       "      <td>Christian-Bale-Vice3.jpeg</td>\n",
       "      <td>0.000000</td>\n",
       "      <td>Unrecognizable</td>\n",
       "      <td>0.000000</td>\n",
       "      <td>No</td>\n",
       "      <td>40</td>\n",
       "    </tr>\n",
       "    <tr>\n",
       "      <th>4</th>\n",
       "      <td>Christian-Bale-machinist3.jpeg</td>\n",
       "      <td>99.815094</td>\n",
       "      <td>Christian Bale</td>\n",
       "      <td>94.874214</td>\n",
       "      <td>No</td>\n",
       "      <td>65</td>\n",
       "    </tr>\n",
       "    <tr>\n",
       "      <th>5</th>\n",
       "      <td>christian-bale-american1.jpeg</td>\n",
       "      <td>99.809196</td>\n",
       "      <td>Felix Kramer</td>\n",
       "      <td>81.725716</td>\n",
       "      <td>No</td>\n",
       "      <td>43</td>\n",
       "    </tr>\n",
       "    <tr>\n",
       "      <th>6</th>\n",
       "      <td>christian-bale-american2.jpg</td>\n",
       "      <td>99.980438</td>\n",
       "      <td>Christian Bale</td>\n",
       "      <td>88.991524</td>\n",
       "      <td>No</td>\n",
       "      <td>43</td>\n",
       "    </tr>\n",
       "    <tr>\n",
       "      <th>7</th>\n",
       "      <td>christian-bale-american3.jpeg</td>\n",
       "      <td>99.969536</td>\n",
       "      <td>Felix Kramer</td>\n",
       "      <td>76.393921</td>\n",
       "      <td>No</td>\n",
       "      <td>43</td>\n",
       "    </tr>\n",
       "    <tr>\n",
       "      <th>8</th>\n",
       "      <td>christian-bale-machinist1.png</td>\n",
       "      <td>97.410477</td>\n",
       "      <td>Christian Bale</td>\n",
       "      <td>99.657700</td>\n",
       "      <td>No</td>\n",
       "      <td>65</td>\n",
       "    </tr>\n",
       "    <tr>\n",
       "      <th>9</th>\n",
       "      <td>christian-bale-machinist2.jpeg</td>\n",
       "      <td>99.520897</td>\n",
       "      <td>Christian Bale</td>\n",
       "      <td>99.595238</td>\n",
       "      <td>No</td>\n",
       "      <td>65</td>\n",
       "    </tr>\n",
       "    <tr>\n",
       "      <th>10</th>\n",
       "      <td>Jared-Leto-Base.jpeg</td>\n",
       "      <td>100.000000</td>\n",
       "      <td>Jared Leto</td>\n",
       "      <td>99.244003</td>\n",
       "      <td>No</td>\n",
       "      <td>0</td>\n",
       "    </tr>\n",
       "    <tr>\n",
       "      <th>11</th>\n",
       "      <td>Jared-Leto-Chapter1.jpeg</td>\n",
       "      <td>0.000000</td>\n",
       "      <td>Jared Leto</td>\n",
       "      <td>92.987770</td>\n",
       "      <td>No</td>\n",
       "      <td>70</td>\n",
       "    </tr>\n",
       "    <tr>\n",
       "      <th>12</th>\n",
       "      <td>Jared-Leto-Chapter2.jpeg</td>\n",
       "      <td>0.000000</td>\n",
       "      <td>Jared Leto</td>\n",
       "      <td>96.524673</td>\n",
       "      <td>No</td>\n",
       "      <td>70</td>\n",
       "    </tr>\n",
       "    <tr>\n",
       "      <th>13</th>\n",
       "      <td>Jared-Leto-Chapter3.jpeg</td>\n",
       "      <td>90.493851</td>\n",
       "      <td>Jared Leto</td>\n",
       "      <td>91.769417</td>\n",
       "      <td>No</td>\n",
       "      <td>70</td>\n",
       "    </tr>\n",
       "    <tr>\n",
       "      <th>14</th>\n",
       "      <td>Jared-Leto-Dallas1.jpeg</td>\n",
       "      <td>0.000000</td>\n",
       "      <td>Unrecognizable</td>\n",
       "      <td>0.000000</td>\n",
       "      <td>Yes</td>\n",
       "      <td>30</td>\n",
       "    </tr>\n",
       "    <tr>\n",
       "      <th>15</th>\n",
       "      <td>Jared-Leto-Dallas2.jpeg</td>\n",
       "      <td>0.000000</td>\n",
       "      <td>Unrecognizable</td>\n",
       "      <td>0.000000</td>\n",
       "      <td>Yes</td>\n",
       "      <td>30</td>\n",
       "    </tr>\n",
       "    <tr>\n",
       "      <th>16</th>\n",
       "      <td>Jared-Leto-Dallas3.jpeg</td>\n",
       "      <td>0.000000</td>\n",
       "      <td>Unrecognizable</td>\n",
       "      <td>0.000000</td>\n",
       "      <td>Yes</td>\n",
       "      <td>30</td>\n",
       "    </tr>\n",
       "    <tr>\n",
       "      <th>17</th>\n",
       "      <td>Jared-Leto-joker1.jpeg</td>\n",
       "      <td>0.000000</td>\n",
       "      <td>Unrecognizable</td>\n",
       "      <td>0.000000</td>\n",
       "      <td>Yes</td>\n",
       "      <td>0</td>\n",
       "    </tr>\n",
       "    <tr>\n",
       "      <th>18</th>\n",
       "      <td>Jared-Leto-joker2.png</td>\n",
       "      <td>0.000000</td>\n",
       "      <td>Unrecognizable</td>\n",
       "      <td>0.000000</td>\n",
       "      <td>Yes</td>\n",
       "      <td>0</td>\n",
       "    </tr>\n",
       "    <tr>\n",
       "      <th>19</th>\n",
       "      <td>Jared-Leto-joker3.jpeg</td>\n",
       "      <td>0.000000</td>\n",
       "      <td>Unrecognizable</td>\n",
       "      <td>0.000000</td>\n",
       "      <td>Yes</td>\n",
       "      <td>0</td>\n",
       "    </tr>\n",
       "    <tr>\n",
       "      <th>20</th>\n",
       "      <td>Charlize-Theron-Base.jpeg</td>\n",
       "      <td>100.000000</td>\n",
       "      <td>Charlize Theron</td>\n",
       "      <td>96.863136</td>\n",
       "      <td>No</td>\n",
       "      <td>0</td>\n",
       "    </tr>\n",
       "    <tr>\n",
       "      <th>21</th>\n",
       "      <td>Charlize-Theron-Madmax1.jpeg</td>\n",
       "      <td>0.000000</td>\n",
       "      <td>Unrecognizable</td>\n",
       "      <td>0.000000</td>\n",
       "      <td>Yes</td>\n",
       "      <td>20</td>\n",
       "    </tr>\n",
       "    <tr>\n",
       "      <th>22</th>\n",
       "      <td>Charlize-Theron-Madmax2.jpeg</td>\n",
       "      <td>97.272453</td>\n",
       "      <td>Unrecognizable</td>\n",
       "      <td>0.000000</td>\n",
       "      <td>Yes</td>\n",
       "      <td>20</td>\n",
       "    </tr>\n",
       "    <tr>\n",
       "      <th>23</th>\n",
       "      <td>Charlize-Theron-Madmax3.jpeg</td>\n",
       "      <td>94.869904</td>\n",
       "      <td>Unrecognizable</td>\n",
       "      <td>0.000000</td>\n",
       "      <td>Yes</td>\n",
       "      <td>20</td>\n",
       "    </tr>\n",
       "    <tr>\n",
       "      <th>24</th>\n",
       "      <td>Charlize-Theron-Monster1.jpeg</td>\n",
       "      <td>0.000000</td>\n",
       "      <td>Unrecognizable</td>\n",
       "      <td>0.000000</td>\n",
       "      <td>Yes</td>\n",
       "      <td>30</td>\n",
       "    </tr>\n",
       "    <tr>\n",
       "      <th>25</th>\n",
       "      <td>Charlize-Theron-Monster2.jpeg</td>\n",
       "      <td>0.000000</td>\n",
       "      <td>Unrecognizable</td>\n",
       "      <td>0.000000</td>\n",
       "      <td>Yes</td>\n",
       "      <td>30</td>\n",
       "    </tr>\n",
       "    <tr>\n",
       "      <th>26</th>\n",
       "      <td>Charlize-Theron-Monster3.jpeg</td>\n",
       "      <td>0.000000</td>\n",
       "      <td>Unrecognizable</td>\n",
       "      <td>0.000000</td>\n",
       "      <td>Yes</td>\n",
       "      <td>30</td>\n",
       "    </tr>\n",
       "    <tr>\n",
       "      <th>27</th>\n",
       "      <td>Charlize-Theron-Tully1.jpg</td>\n",
       "      <td>99.983475</td>\n",
       "      <td>Charlize Theron</td>\n",
       "      <td>82.433632</td>\n",
       "      <td>No</td>\n",
       "      <td>50</td>\n",
       "    </tr>\n",
       "    <tr>\n",
       "      <th>28</th>\n",
       "      <td>Charlize-Theron-Tully2.jpeg</td>\n",
       "      <td>99.932693</td>\n",
       "      <td>Unrecognizable</td>\n",
       "      <td>0.000000</td>\n",
       "      <td>No</td>\n",
       "      <td>50</td>\n",
       "    </tr>\n",
       "    <tr>\n",
       "      <th>29</th>\n",
       "      <td>Charlize-Theron-Tully3.jpeg</td>\n",
       "      <td>98.615128</td>\n",
       "      <td>Charlize Theron</td>\n",
       "      <td>97.655167</td>\n",
       "      <td>No</td>\n",
       "      <td>50</td>\n",
       "    </tr>\n",
       "  </tbody>\n",
       "</table>\n",
       "</div>"
      ],
      "text/plain": [
       "                              Name  Similarity Celebrity_Recognized  \\\n",
       "0         Christian-Bale-Base.jpeg  100.000000       Christian Bale   \n",
       "1         Christian-Bale-Vice1.jpg    0.000000       Unrecognizable   \n",
       "2        Christian-Bale-Vice2.jpeg    0.000000       Unrecognizable   \n",
       "3        Christian-Bale-Vice3.jpeg    0.000000       Unrecognizable   \n",
       "4   Christian-Bale-machinist3.jpeg   99.815094       Christian Bale   \n",
       "5    christian-bale-american1.jpeg   99.809196         Felix Kramer   \n",
       "6     christian-bale-american2.jpg   99.980438       Christian Bale   \n",
       "7    christian-bale-american3.jpeg   99.969536         Felix Kramer   \n",
       "8    christian-bale-machinist1.png   97.410477       Christian Bale   \n",
       "9   christian-bale-machinist2.jpeg   99.520897       Christian Bale   \n",
       "10            Jared-Leto-Base.jpeg  100.000000           Jared Leto   \n",
       "11        Jared-Leto-Chapter1.jpeg    0.000000           Jared Leto   \n",
       "12        Jared-Leto-Chapter2.jpeg    0.000000           Jared Leto   \n",
       "13        Jared-Leto-Chapter3.jpeg   90.493851           Jared Leto   \n",
       "14         Jared-Leto-Dallas1.jpeg    0.000000       Unrecognizable   \n",
       "15         Jared-Leto-Dallas2.jpeg    0.000000       Unrecognizable   \n",
       "16         Jared-Leto-Dallas3.jpeg    0.000000       Unrecognizable   \n",
       "17          Jared-Leto-joker1.jpeg    0.000000       Unrecognizable   \n",
       "18           Jared-Leto-joker2.png    0.000000       Unrecognizable   \n",
       "19          Jared-Leto-joker3.jpeg    0.000000       Unrecognizable   \n",
       "20       Charlize-Theron-Base.jpeg  100.000000      Charlize Theron   \n",
       "21    Charlize-Theron-Madmax1.jpeg    0.000000       Unrecognizable   \n",
       "22    Charlize-Theron-Madmax2.jpeg   97.272453       Unrecognizable   \n",
       "23    Charlize-Theron-Madmax3.jpeg   94.869904       Unrecognizable   \n",
       "24   Charlize-Theron-Monster1.jpeg    0.000000       Unrecognizable   \n",
       "25   Charlize-Theron-Monster2.jpeg    0.000000       Unrecognizable   \n",
       "26   Charlize-Theron-Monster3.jpeg    0.000000       Unrecognizable   \n",
       "27      Charlize-Theron-Tully1.jpg   99.983475      Charlize Theron   \n",
       "28     Charlize-Theron-Tully2.jpeg   99.932693       Unrecognizable   \n",
       "29     Charlize-Theron-Tully3.jpeg   98.615128      Charlize Theron   \n",
       "\n",
       "    Celebrity_Confidence Makeup  Weight_Change_in_lbs  \n",
       "0              99.544708     No                     0  \n",
       "1               0.000000     No                    40  \n",
       "2               0.000000     No                    40  \n",
       "3               0.000000     No                    40  \n",
       "4              94.874214     No                    65  \n",
       "5              81.725716     No                    43  \n",
       "6              88.991524     No                    43  \n",
       "7              76.393921     No                    43  \n",
       "8              99.657700     No                    65  \n",
       "9              99.595238     No                    65  \n",
       "10             99.244003     No                     0  \n",
       "11             92.987770     No                    70  \n",
       "12             96.524673     No                    70  \n",
       "13             91.769417     No                    70  \n",
       "14              0.000000    Yes                    30  \n",
       "15              0.000000    Yes                    30  \n",
       "16              0.000000    Yes                    30  \n",
       "17              0.000000    Yes                     0  \n",
       "18              0.000000    Yes                     0  \n",
       "19              0.000000    Yes                     0  \n",
       "20             96.863136     No                     0  \n",
       "21              0.000000    Yes                    20  \n",
       "22              0.000000    Yes                    20  \n",
       "23              0.000000    Yes                    20  \n",
       "24              0.000000    Yes                    30  \n",
       "25              0.000000    Yes                    30  \n",
       "26              0.000000    Yes                    30  \n",
       "27             82.433632     No                    50  \n",
       "28              0.000000     No                    50  \n",
       "29             97.655167     No                    50  "
      ]
     },
     "metadata": {},
     "output_type": "display_data"
    }
   ],
   "source": [
    "df = df_christian.append([df_jared, df_charlize],ignore_index=True)\n",
    "display(df)"
   ]
  },
  {
   "cell_type": "markdown",
   "id": "f5748d56",
   "metadata": {},
   "source": [
    "We want to find the average simlarity score and Celebrity Rekognition confidence score for the actor when they wear makeup and when they do not wear makeup. To do that, we group the data by the column 'Makeup' and find the mean of the similarity score and celebrity confidence score column:"
   ]
  },
  {
   "cell_type": "code",
   "execution_count": 43,
   "id": "9f3f5206",
   "metadata": {},
   "outputs": [
    {
     "data": {
      "text/html": [
       "<div>\n",
       "<style scoped>\n",
       "    .dataframe tbody tr th:only-of-type {\n",
       "        vertical-align: middle;\n",
       "    }\n",
       "\n",
       "    .dataframe tbody tr th {\n",
       "        vertical-align: top;\n",
       "    }\n",
       "\n",
       "    .dataframe thead th {\n",
       "        text-align: right;\n",
       "    }\n",
       "</style>\n",
       "<table border=\"1\" class=\"dataframe\">\n",
       "  <thead>\n",
       "    <tr style=\"text-align: right;\">\n",
       "      <th></th>\n",
       "      <th>Similarity</th>\n",
       "      <th>Celebrity_Confidence</th>\n",
       "    </tr>\n",
       "    <tr>\n",
       "      <th>Makeup</th>\n",
       "      <th></th>\n",
       "      <th></th>\n",
       "    </tr>\n",
       "  </thead>\n",
       "  <tbody>\n",
       "    <tr>\n",
       "      <th>No</th>\n",
       "      <td>71.418377</td>\n",
       "      <td>72.125601</td>\n",
       "    </tr>\n",
       "    <tr>\n",
       "      <th>Yes</th>\n",
       "      <td>16.011863</td>\n",
       "      <td>0.000000</td>\n",
       "    </tr>\n",
       "  </tbody>\n",
       "</table>\n",
       "</div>"
      ],
      "text/plain": [
       "        Similarity  Celebrity_Confidence\n",
       "Makeup                                  \n",
       "No       71.418377             72.125601\n",
       "Yes      16.011863              0.000000"
      ]
     },
     "execution_count": 43,
     "metadata": {},
     "output_type": "execute_result"
    }
   ],
   "source": [
    "grouped_df = df.groupby(\"Makeup\")\n",
    "mean_df = grouped_df.mean()\n",
    "mean_df[[\"Similarity\", \"Celebrity_Confidence\"]]"
   ]
  },
  {
   "cell_type": "markdown",
   "id": "5ab95f56",
   "metadata": {},
   "source": [
    "## Saving the dataframe to S3"
   ]
  },
  {
   "cell_type": "code",
   "execution_count": 44,
   "id": "2e705b79",
   "metadata": {},
   "outputs": [],
   "source": [
    "df.to_csv('actors_analysis.csv')"
   ]
  },
  {
   "cell_type": "code",
   "execution_count": 49,
   "id": "b0199785",
   "metadata": {},
   "outputs": [
    {
     "name": "stdout",
     "output_type": "stream",
     "text": [
      "2021-11-29 21:50:53 actorsdataframe-storage\n",
      "2021-11-15 18:22:56 charlizefacematch\n",
      "2021-11-15 18:24:32 christianfacematch\n",
      "2021-11-15 18:26:03 jaredfacematch\n",
      "2021-11-15 04:32:43 projectvuadachi\n"
     ]
    }
   ],
   "source": [
    "!aws s3 ls"
   ]
  },
  {
   "cell_type": "code",
   "execution_count": 46,
   "id": "164357c3",
   "metadata": {},
   "outputs": [
    {
     "name": "stdout",
     "output_type": "stream",
     "text": [
      "make_bucket: actorsdataframe-storage\n"
     ]
    }
   ],
   "source": [
    "!aws s3 mb s3://actorsdataframe-storage"
   ]
  },
  {
   "cell_type": "code",
   "execution_count": 47,
   "id": "8fe1fa99",
   "metadata": {},
   "outputs": [
    {
     "name": "stdout",
     "output_type": "stream",
     "text": [
      "upload: ./actors_analysis.csv to s3://actorsdataframe-storage/actors_analysis.csv\n"
     ]
    }
   ],
   "source": [
    "!aws s3 cp actors_analysis.csv s3://actorsdataframe-storage/actors_analysis.csv"
   ]
  },
  {
   "cell_type": "code",
   "execution_count": 48,
   "id": "079c5965",
   "metadata": {},
   "outputs": [
    {
     "name": "stdout",
     "output_type": "stream",
     "text": [
      "2021-11-29 21:51:24       2196 actors_analysis.csv\n"
     ]
    }
   ],
   "source": [
    "!aws s3 ls actorsdataframe-storage"
   ]
  },
  {
   "cell_type": "code",
   "execution_count": null,
   "id": "a2fe606c",
   "metadata": {},
   "outputs": [],
   "source": []
  }
 ],
 "metadata": {
  "kernelspec": {
   "display_name": "conda_python3",
   "language": "python",
   "name": "conda_python3"
  },
  "language_info": {
   "codemirror_mode": {
    "name": "ipython",
    "version": 3
   },
   "file_extension": ".py",
   "mimetype": "text/x-python",
   "name": "python",
   "nbconvert_exporter": "python",
   "pygments_lexer": "ipython3",
   "version": "3.6.13"
  }
 },
 "nbformat": 4,
 "nbformat_minor": 5
}
